{
  "nbformat": 4,
  "nbformat_minor": 0,
  "metadata": {
    "colab": {
      "name": "Lista4_AMA.ipynb",
      "provenance": []
    },
    "kernelspec": {
      "name": "python3",
      "display_name": "Python 3"
    },
    "language_info": {
      "name": "python"
    }
  },
  "cells": [
    {
      "cell_type": "markdown",
      "source": [
        "# **Lista 4 - Redes Neurais Artificiais**\n",
        "\n",
        "## Aprendizagem de Máquina - 2022.1\n",
        "## Matheus do Vale Almeida - 473219\n",
        "\n",
        "\n",
        "---\n",
        "\n"
      ],
      "metadata": {
        "id": "WhsuvwhXuBuZ"
      }
    },
    {
      "cell_type": "code",
      "execution_count": 121,
      "metadata": {
        "id": "9bwjWmHht-w7",
        "colab": {
          "base_uri": "https://localhost:8080/"
        },
        "outputId": "0688300c-9b98-47a0-9c38-9e2578aa1252"
      },
      "outputs": [
        {
          "output_type": "stream",
          "name": "stdout",
          "text": [
            "Número de amostras  - datasetQ1: 1030\n",
            "Número de dimensões - datasetQ1: 8\n",
            "Número de classes   - datasetQ1: 80\n",
            "\n",
            "Número de amostras  - datasetQ2: 990\n",
            "Número de dimensões - datasetQ2: 10\n",
            "Número de classes   - datasetQ2: 11\n"
          ]
        }
      ],
      "source": [
        "import numpy as np\n",
        "import matplotlib.pyplot as plt\n",
        "\n",
        "from sklearn.neural_network import MLPRegressor\n",
        "from sklearn.neural_network import MLPClassifier\n",
        "\n",
        "from sklearn.preprocessing import StandardScaler\n",
        "from sklearn import metrics\n",
        "from sklearn.model_selection import train_test_split, RandomizedSearchCV\n",
        "\n",
        "datasetQ1 = \"concrete\"\n",
        "datasetQ2 = \"vowel\"\n",
        "\n",
        "# Dados para a Questão 01 ======================================================\n",
        "dataQ1 = np.genfromtxt(f\"{datasetQ1}.csv\", delimiter=',')\n",
        "XQ1 = dataQ1[:,:-1]\n",
        "yQ1 = dataQ1[:,-1].astype(int)\n",
        "\n",
        "print(f\"Número de amostras  - datasetQ1: {XQ1.shape[0]}\")\n",
        "print(f\"Número de dimensões - datasetQ1: {XQ1.shape[1]}\")\n",
        "print(f\"Número de classes   - datasetQ1: {np.unique(yQ1).shape[0]}\\n\")\n",
        "\n",
        "# Dados para a Questão 02 ======================================================\n",
        "dataQ2 = np.genfromtxt(f\"{datasetQ2}.csv\", delimiter=',')\n",
        "XQ2 = dataQ2[:,:-1]\n",
        "yQ2 = dataQ2[:,-1].astype(int)\n",
        "\n",
        "print(f\"Número de amostras  - datasetQ2: {XQ2.shape[0]}\")\n",
        "print(f\"Número de dimensões - datasetQ2: {XQ2.shape[1]}\")\n",
        "print(f\"Número de classes   - datasetQ2: {np.unique(yQ2).shape[0]}\")"
      ]
    },
    {
      "cell_type": "markdown",
      "source": [
        "## Divisão treino, validação e teste"
      ],
      "metadata": {
        "id": "qMsDTywl1zrS"
      }
    },
    {
      "cell_type": "code",
      "source": [
        "#Normalização\n",
        "escalaQ1 = StandardScaler()\n",
        "escalaQ1.fit(XQ1)\n",
        "XQ1_norm = escalaQ1.transform(XQ1)\n",
        "\n",
        "escalaQ2 = StandardScaler()\n",
        "escalaQ2.fit(XQ2)\n",
        "XQ2_norm = escalaQ2.transform(XQ2)"
      ],
      "metadata": {
        "id": "YaHw_eB3jbs5"
      },
      "execution_count": 122,
      "outputs": []
    },
    {
      "cell_type": "code",
      "source": [
        "np.random.seed(12345)\n",
        "\n",
        "# Treino, validação e teste para a Questão 01 ==================================\n",
        "XQ1_train, XQ1_test, yQ1_train, yQ1_test = train_test_split(XQ1_norm, yQ1, test_size=0.4)\n",
        "#XQ1_train, XQ1_val_tes, yQ1_train, yQ1_val_tes = train_test_split(XQ1_norm, yQ1, test_size=0.4)\n",
        "#XQ1_validacao, XQ1_test, yQ1_validacao, yQ1_test = train_test_split(XQ1_val_tes, yQ1_val_tes, test_size=0.5)\n",
        "\n",
        "# Treino, validação e teste para a Questão 02 ==================================\n",
        "XQ2_train, XQ2_test, yQ2_train, yQ2_test = train_test_split(XQ2_norm, yQ2, test_size=0.4)\n",
        "#XQ2_train, XQ2_val_tes, yQ2_train, yQ2_val_tes = train_test_split(XQ2_norm, yQ2, test_size=0.4)\n",
        "#XQ2_validacao, XQ2_test, yQ2_validacao, yQ2_test = train_test_split(XQ2_val_tes, yQ2_val_tes, test_size=0.5)"
      ],
      "metadata": {
        "id": "3-W2oDEw112Z"
      },
      "execution_count": 123,
      "outputs": []
    },
    {
      "cell_type": "markdown",
      "source": [
        "## Questão 01\n",
        "\n",
        "---\n"
      ],
      "metadata": {
        "id": "jUuS_bjv2edh"
      }
    },
    {
      "cell_type": "code",
      "source": [
        "distributions = {\n",
        "    'hidden_layer_sizes': [(8,), (20,), (30,)],\n",
        "    'activation': ['identity', 'logistic', 'relu'],\n",
        "    'solver': ['sgd', 'adam'],\n",
        "    'alpha': [0.1, 0.01, 0.001],\n",
        "    'batch_size': [20, 32],\n",
        "    'momentum': [0.6, 0.9],\n",
        "}\n",
        "\n",
        "regr = MLPRegressor(max_iter=1600)\n",
        "rs = RandomizedSearchCV(regr, distributions, random_state=2)\n",
        "search = rs.fit(XQ1_train, yQ1_train)\n",
        "search.best_params_"
      ],
      "metadata": {
        "id": "wB8eCr9wXpDd",
        "colab": {
          "base_uri": "https://localhost:8080/"
        },
        "outputId": "57cd28ce-a1f7-40fb-ca1f-78486414b195"
      },
      "execution_count": 124,
      "outputs": [
        {
          "output_type": "stream",
          "name": "stderr",
          "text": [
            "/usr/local/lib/python3.7/dist-packages/sklearn/neural_network/_multilayer_perceptron.py:696: ConvergenceWarning: Stochastic Optimizer: Maximum iterations (1600) reached and the optimization hasn't converged yet.\n",
            "  ConvergenceWarning,\n",
            "/usr/local/lib/python3.7/dist-packages/sklearn/neural_network/_multilayer_perceptron.py:696: ConvergenceWarning: Stochastic Optimizer: Maximum iterations (1600) reached and the optimization hasn't converged yet.\n",
            "  ConvergenceWarning,\n",
            "/usr/local/lib/python3.7/dist-packages/sklearn/neural_network/_multilayer_perceptron.py:696: ConvergenceWarning: Stochastic Optimizer: Maximum iterations (1600) reached and the optimization hasn't converged yet.\n",
            "  ConvergenceWarning,\n",
            "/usr/local/lib/python3.7/dist-packages/sklearn/neural_network/_multilayer_perceptron.py:696: ConvergenceWarning: Stochastic Optimizer: Maximum iterations (1600) reached and the optimization hasn't converged yet.\n",
            "  ConvergenceWarning,\n",
            "/usr/local/lib/python3.7/dist-packages/sklearn/neural_network/_multilayer_perceptron.py:696: ConvergenceWarning: Stochastic Optimizer: Maximum iterations (1600) reached and the optimization hasn't converged yet.\n",
            "  ConvergenceWarning,\n",
            "/usr/local/lib/python3.7/dist-packages/sklearn/neural_network/_multilayer_perceptron.py:696: ConvergenceWarning: Stochastic Optimizer: Maximum iterations (1600) reached and the optimization hasn't converged yet.\n",
            "  ConvergenceWarning,\n",
            "/usr/local/lib/python3.7/dist-packages/sklearn/neural_network/_multilayer_perceptron.py:696: ConvergenceWarning: Stochastic Optimizer: Maximum iterations (1600) reached and the optimization hasn't converged yet.\n",
            "  ConvergenceWarning,\n",
            "/usr/local/lib/python3.7/dist-packages/sklearn/neural_network/_multilayer_perceptron.py:696: ConvergenceWarning: Stochastic Optimizer: Maximum iterations (1600) reached and the optimization hasn't converged yet.\n",
            "  ConvergenceWarning,\n",
            "/usr/local/lib/python3.7/dist-packages/sklearn/neural_network/_multilayer_perceptron.py:696: ConvergenceWarning: Stochastic Optimizer: Maximum iterations (1600) reached and the optimization hasn't converged yet.\n",
            "  ConvergenceWarning,\n"
          ]
        },
        {
          "output_type": "execute_result",
          "data": {
            "text/plain": [
              "{'activation': 'logistic',\n",
              " 'alpha': 0.001,\n",
              " 'batch_size': 32,\n",
              " 'hidden_layer_sizes': (30,),\n",
              " 'momentum': 0.9,\n",
              " 'solver': 'sgd'}"
            ]
          },
          "metadata": {},
          "execution_count": 124
        }
      ]
    },
    {
      "cell_type": "code",
      "source": [
        "rs_pred = rs.predict(XQ1_test)\n",
        "\n",
        "print('Root Mean Squared Error:', np.sqrt(metrics.mean_squared_error(yQ1_test, rs_pred)))\n",
        "print('Mean Absolute Error:', metrics.mean_absolute_error(yQ1_test, rs_pred))\n",
        "print('Mean Squared Error:', metrics.mean_squared_error(yQ1_test, rs_pred)) "
      ],
      "metadata": {
        "colab": {
          "base_uri": "https://localhost:8080/"
        },
        "id": "oqWFygKrbCnO",
        "outputId": "8ec2552e-9f29-450b-b42b-5f55b751117e"
      },
      "execution_count": 125,
      "outputs": [
        {
          "output_type": "stream",
          "name": "stdout",
          "text": [
            "Root Mean Squared Error: 5.9140813306455815\n",
            "Mean Absolute Error: 4.274847260781287\n",
            "Mean Squared Error: 34.97635798549061\n"
          ]
        }
      ]
    },
    {
      "cell_type": "code",
      "source": [
        "mlpRegr = MLPRegressor(max_iter=1600, activation='logistic', alpha=0.001, batch_size=32, hidden_layer_sizes=(30,), momentum=0.9, solver='sgd')\n",
        "\n",
        "mlpRegr.fit(XQ1_train, yQ1_train)\n",
        "plt.plot(mlpRegr.loss_curve_)"
      ],
      "metadata": {
        "colab": {
          "base_uri": "https://localhost:8080/",
          "height": 282
        },
        "id": "jMnNlKS4dRYZ",
        "outputId": "ca314bc2-ad3b-4a59-c48b-798201cd69fc"
      },
      "execution_count": 126,
      "outputs": [
        {
          "output_type": "execute_result",
          "data": {
            "text/plain": [
              "[<matplotlib.lines.Line2D at 0x7f1bee217d10>]"
            ]
          },
          "metadata": {},
          "execution_count": 126
        },
        {
          "output_type": "display_data",
          "data": {
            "text/plain": [
              "<Figure size 432x288 with 1 Axes>"
            ],
            "image/png": "[encoded data removed]"
          },
          "metadata": {
            "needs_background": "light"
          }
        }
      ]
    },
    {
      "cell_type": "markdown",
      "source": [
        "## Questão 02\n",
        "\n",
        "---\n"
      ],
      "metadata": {
        "id": "eLPrmnpVmAMU"
      }
    },
    {
      "cell_type": "code",
      "source": [
        "distributionsQ2 = {\n",
        "    'hidden_layer_sizes': [(8,), (20,), (30,)],\n",
        "    'activation': ['identity', 'logistic', 'relu'],\n",
        "    'solver': ['sgd', 'adam'],\n",
        "    'alpha': [0.1, 0.01, 0.001],\n",
        "    'batch_size': [20, 32],\n",
        "    'momentum': [0.6, 0.9],\n",
        "}\n",
        "\n",
        "clas = MLPClassifier(max_iter=1600)\n",
        "rsClas = RandomizedSearchCV(clas, distributionsQ2, random_state=2)\n",
        "searchQ2 = rsClas.fit(XQ2_train, yQ2_train)\n",
        "searchQ2.best_params_"
      ],
      "metadata": {
        "colab": {
          "base_uri": "https://localhost:8080/"
        },
        "id": "ysdkNfq2mDeU",
        "outputId": "53e5b0d7-0db3-4b3c-96ba-3f1ea5218c93"
      },
      "execution_count": 127,
      "outputs": [
        {
          "output_type": "stream",
          "name": "stderr",
          "text": [
            "/usr/local/lib/python3.7/dist-packages/sklearn/neural_network/_multilayer_perceptron.py:696: ConvergenceWarning: Stochastic Optimizer: Maximum iterations (1600) reached and the optimization hasn't converged yet.\n",
            "  ConvergenceWarning,\n",
            "/usr/local/lib/python3.7/dist-packages/sklearn/neural_network/_multilayer_perceptron.py:696: ConvergenceWarning: Stochastic Optimizer: Maximum iterations (1600) reached and the optimization hasn't converged yet.\n",
            "  ConvergenceWarning,\n",
            "/usr/local/lib/python3.7/dist-packages/sklearn/neural_network/_multilayer_perceptron.py:696: ConvergenceWarning: Stochastic Optimizer: Maximum iterations (1600) reached and the optimization hasn't converged yet.\n",
            "  ConvergenceWarning,\n",
            "/usr/local/lib/python3.7/dist-packages/sklearn/neural_network/_multilayer_perceptron.py:696: ConvergenceWarning: Stochastic Optimizer: Maximum iterations (1600) reached and the optimization hasn't converged yet.\n",
            "  ConvergenceWarning,\n",
            "/usr/local/lib/python3.7/dist-packages/sklearn/neural_network/_multilayer_perceptron.py:696: ConvergenceWarning: Stochastic Optimizer: Maximum iterations (1600) reached and the optimization hasn't converged yet.\n",
            "  ConvergenceWarning,\n",
            "/usr/local/lib/python3.7/dist-packages/sklearn/neural_network/_multilayer_perceptron.py:696: ConvergenceWarning: Stochastic Optimizer: Maximum iterations (1600) reached and the optimization hasn't converged yet.\n",
            "  ConvergenceWarning,\n",
            "/usr/local/lib/python3.7/dist-packages/sklearn/neural_network/_multilayer_perceptron.py:696: ConvergenceWarning: Stochastic Optimizer: Maximum iterations (1600) reached and the optimization hasn't converged yet.\n",
            "  ConvergenceWarning,\n",
            "/usr/local/lib/python3.7/dist-packages/sklearn/neural_network/_multilayer_perceptron.py:696: ConvergenceWarning: Stochastic Optimizer: Maximum iterations (1600) reached and the optimization hasn't converged yet.\n",
            "  ConvergenceWarning,\n",
            "/usr/local/lib/python3.7/dist-packages/sklearn/neural_network/_multilayer_perceptron.py:696: ConvergenceWarning: Stochastic Optimizer: Maximum iterations (1600) reached and the optimization hasn't converged yet.\n",
            "  ConvergenceWarning,\n",
            "/usr/local/lib/python3.7/dist-packages/sklearn/neural_network/_multilayer_perceptron.py:696: ConvergenceWarning: Stochastic Optimizer: Maximum iterations (1600) reached and the optimization hasn't converged yet.\n",
            "  ConvergenceWarning,\n",
            "/usr/local/lib/python3.7/dist-packages/sklearn/neural_network/_multilayer_perceptron.py:696: ConvergenceWarning: Stochastic Optimizer: Maximum iterations (1600) reached and the optimization hasn't converged yet.\n",
            "  ConvergenceWarning,\n",
            "/usr/local/lib/python3.7/dist-packages/sklearn/neural_network/_multilayer_perceptron.py:696: ConvergenceWarning: Stochastic Optimizer: Maximum iterations (1600) reached and the optimization hasn't converged yet.\n",
            "  ConvergenceWarning,\n",
            "/usr/local/lib/python3.7/dist-packages/sklearn/neural_network/_multilayer_perceptron.py:696: ConvergenceWarning: Stochastic Optimizer: Maximum iterations (1600) reached and the optimization hasn't converged yet.\n",
            "  ConvergenceWarning,\n",
            "/usr/local/lib/python3.7/dist-packages/sklearn/neural_network/_multilayer_perceptron.py:696: ConvergenceWarning: Stochastic Optimizer: Maximum iterations (1600) reached and the optimization hasn't converged yet.\n",
            "  ConvergenceWarning,\n"
          ]
        },
        {
          "output_type": "execute_result",
          "data": {
            "text/plain": [
              "{'activation': 'relu',\n",
              " 'alpha': 0.01,\n",
              " 'batch_size': 32,\n",
              " 'hidden_layer_sizes': (30,),\n",
              " 'momentum': 0.6,\n",
              " 'solver': 'adam'}"
            ]
          },
          "metadata": {},
          "execution_count": 127
        }
      ]
    },
    {
      "cell_type": "code",
      "source": [
        "rsClas_pred = rsClas.predict(XQ2_test)\n",
        "\n",
        "print(f\"Accuracy: {metrics.accuracy_score(yQ2_test, rsClas_pred):.3f}\")\n",
        "print(metrics.classification_report(yQ2_test, rsClas_pred))"
      ],
      "metadata": {
        "colab": {
          "base_uri": "https://localhost:8080/"
        },
        "id": "i0Z82dpJq3FB",
        "outputId": "41f8d57b-79f7-4a1a-e4d5-72bdda3bf342"
      },
      "execution_count": 128,
      "outputs": [
        {
          "output_type": "stream",
          "name": "stdout",
          "text": [
            "Accuracy: 0.949\n",
            "              precision    recall  f1-score   support\n",
            "\n",
            "           0       1.00      1.00      1.00        34\n",
            "           1       0.95      0.97      0.96        36\n",
            "           2       0.93      0.98      0.95        41\n",
            "           3       0.97      0.83      0.89        35\n",
            "           4       1.00      0.93      0.96        42\n",
            "           5       0.84      1.00      0.91        32\n",
            "           6       0.93      0.89      0.91        44\n",
            "           7       0.87      0.92      0.89        37\n",
            "           8       1.00      0.97      0.98        33\n",
            "           9       1.00      1.00      1.00        35\n",
            "          10       1.00      1.00      1.00        27\n",
            "\n",
            "    accuracy                           0.95       396\n",
            "   macro avg       0.95      0.95      0.95       396\n",
            "weighted avg       0.95      0.95      0.95       396\n",
            "\n"
          ]
        }
      ]
    },
    {
      "cell_type": "code",
      "source": [
        "mlpClas = MLPClassifier(max_iter=1600, activation='relu', alpha=0.01, batch_size=32, hidden_layer_sizes=(30,), momentum=0.6, solver='adam')\n",
        "\n",
        "mlpClas.fit(XQ2_train, yQ2_train)\n",
        "plt.plot(mlpClas.loss_curve_)"
      ],
      "metadata": {
        "colab": {
          "base_uri": "https://localhost:8080/",
          "height": 282
        },
        "id": "L8Iuq09jtwIC",
        "outputId": "75549e12-da46-493b-fd6e-9cc3bbd37fba"
      },
      "execution_count": 129,
      "outputs": [
        {
          "output_type": "execute_result",
          "data": {
            "text/plain": [
              "[<matplotlib.lines.Line2D at 0x7f1bee27e0d0>]"
            ]
          },
          "metadata": {},
          "execution_count": 129
        },
        {
          "output_type": "display_data",
          "data": {
            "text/plain": [
              "<Figure size 432x288 with 1 Axes>"
            ],
            "image/png": "[encoded data removed]"
          },
          "metadata": {
            "needs_background": "light"
          }
        }
      ]
    }
  ]
}