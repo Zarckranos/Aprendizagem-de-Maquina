{
  "nbformat": 4,
  "nbformat_minor": 0,
  "metadata": {
    "colab": {
      "name": "Lista1_AMA.ipynb",
      "provenance": [],
      "collapsed_sections": []
    },
    "kernelspec": {
      "name": "python3",
      "display_name": "Python 3"
    },
    "language_info": {
      "name": "python"
    }
  },
  "cells": [
    {
      "cell_type": "markdown",
      "source": [
        "# **Lista 1 - Regressão linear, polinomial e regularização**\n",
        "\n",
        "## Aprendizagem de Máquina - 2022.1\n",
        "## Matheus do Vale Almeida - 473219"
      ],
      "metadata": {
        "id": "bYnXguypJu4T"
      }
    },
    {
      "cell_type": "code",
      "execution_count": null,
      "metadata": {
        "id": "UCngrbMGJLvC"
      },
      "outputs": [],
      "source": [
        "import numpy as np\n",
        "import matplotlib.pyplot as plt # Biblioteca para gerar gráficos"
      ]
    },
    {
      "cell_type": "markdown",
      "source": [
        "## **Questão 01:**"
      ],
      "metadata": {
        "id": "mtRWdH7yKJL9"
      }
    },
    {
      "cell_type": "code",
      "source": [
        "artificial1_dataset = np.genfromtxt('./artificial1d.csv', delimiter=',')"
      ],
      "metadata": {
        "id": "F12EGkq1Kd1U"
      },
      "execution_count": null,
      "outputs": []
    },
    {
      "cell_type": "code",
      "source": [
        "# Entrada de dados\n",
        "uns = np.ones((artificial1_dataset.shape[0], 1))\n",
        "X = artificial1_dataset[:, [0]]\n",
        "X_uns = np.c_[uns, X]\n",
        "y_real = artificial1_dataset[:, [1]]"
      ],
      "metadata": {
        "id": "WYQn_j2JYGek"
      },
      "execution_count": null,
      "outputs": []
    },
    {
      "cell_type": "code",
      "source": [
        "# MSE (erro quadrático médio)\n",
        "def MSE (y_real, y_pred):\n",
        "    return np.mean((y_real - y_pred) ** 2)"
      ],
      "metadata": {
        "id": "UgC1l_n7U0px"
      },
      "execution_count": null,
      "outputs": []
    },
    {
      "cell_type": "code",
      "source": [
        "# Normalização escore-Z\n",
        "def normalZ(X):\n",
        "    N = len(X)\n",
        "\n",
        "    mi = np.mean(X)\n",
        "    desvio = np.sqrt((1/N-1) * (sum(X - mi) ** 2))\n",
        "\n",
        "    return (X - mi) / desvio"
      ],
      "metadata": {
        "id": "o9nui0uDyJ_2"
      },
      "execution_count": null,
      "outputs": []
    },
    {
      "cell_type": "code",
      "source": [
        "# Desnormalização\n",
        "def desnormalZ(X):\n",
        "    N = len(X)\n",
        "\n",
        "    mi = np.mean(X)\n",
        "    desvio = np.sqrt((1/N-1) * (sum(X - mi) ** 2))\n",
        "\n",
        "    return desvio * X + mi"
      ],
      "metadata": {
        "id": "5CSVoMhLzHiu"
      },
      "execution_count": null,
      "outputs": []
    },
    {
      "cell_type": "markdown",
      "source": [
        "### **Item A)**\n",
        "\n",
        "---\n",
        "\n"
      ],
      "metadata": {
        "id": "_A57NduiNWoS"
      }
    },
    {
      "cell_type": "code",
      "source": [
        "# Regressão Linear via mínimos quadrados ordinários (OLS)\n",
        "def OLS (X, y):\n",
        "    w = np.linalg.inv(X.T @ X) @ X.T @ y\n",
        "    return w"
      ],
      "metadata": {
        "id": "OQyTxrAaLlId"
      },
      "execution_count": null,
      "outputs": []
    },
    {
      "cell_type": "markdown",
      "source": [
        "**Parâmetros do modelo:**"
      ],
      "metadata": {
        "id": "U2tOS_X8ZlU6"
      }
    },
    {
      "cell_type": "code",
      "source": [
        "w = OLS(X_uns, y_real)\n",
        "w"
      ],
      "metadata": {
        "colab": {
          "base_uri": "https://localhost:8080/"
        },
        "id": "jBYcqwGuZsMb",
        "outputId": "95d6bb8d-b0da-4623-fbc6-572baaaa2647"
      },
      "execution_count": null,
      "outputs": [
        {
          "output_type": "execute_result",
          "data": {
            "text/plain": [
              "array([[0.06761792],\n",
              "       [1.57486517]])"
            ]
          },
          "metadata": {},
          "execution_count": 7
        }
      ]
    },
    {
      "cell_type": "markdown",
      "source": [
        "**MSE (erro quadrático médio) obtidos pelo algoritmo:**"
      ],
      "metadata": {
        "id": "dkJ0ixosZ5Aw"
      }
    },
    {
      "cell_type": "code",
      "source": [
        "y_pred = X_uns @ w\n",
        "MSE = MSE(y_real, y_pred)\n",
        "MSE"
      ],
      "metadata": {
        "colab": {
          "base_uri": "https://localhost:8080/"
        },
        "id": "VUwxENPnZ6gk",
        "outputId": "c688f36b-b7da-4882-b28b-2521b274a012"
      },
      "execution_count": null,
      "outputs": [
        {
          "output_type": "execute_result",
          "data": {
            "text/plain": [
              "0.21340090132936987"
            ]
          },
          "metadata": {},
          "execution_count": 8
        }
      ]
    },
    {
      "cell_type": "markdown",
      "source": [
        "**Reta resultante sobre os dados:**"
      ],
      "metadata": {
        "id": "H3_-4hLAbGo-"
      }
    },
    {
      "cell_type": "code",
      "source": [
        "plt.scatter(X, y_real)\n",
        "plt.plot(X, y_pred, color='red')\n",
        "plt.title(\"Reta resultante sobre os dados\")\n",
        "plt.show()"
      ],
      "metadata": {
        "colab": {
          "base_uri": "https://localhost:8080/",
          "height": 281
        },
        "id": "_xplfi4dbLLJ",
        "outputId": "ff8b731e-399a-42a6-f2a2-51fd2be5b4bd"
      },
      "execution_count": null,
      "outputs": [
        {
          "output_type": "display_data",
          "data": {
            "text/plain": [
              "<Figure size 432x288 with 1 Axes>"
            ],
            "image/png": "[encoded data removed]"
          },
          "metadata": {
            "needs_background": "light"
          }
        }
      ]
    },
    {
      "cell_type": "markdown",
      "source": [
        "# **Item B)**\n",
        "\n",
        "---\n"
      ],
      "metadata": {
        "id": "bpKZ6ps8fRVI"
      }
    },
    {
      "cell_type": "code",
      "source": [
        "# Regressão Linear via GD (gradiente descendente)\n",
        "def GD(X, y_real):\n",
        "    #um valor alfa positivo pequeno\n",
        "    alfa = 0.01\n",
        "\n",
        "    #inicializando os parametros na iteração 0\n",
        "    w0 = 0\n",
        "    w1 = 0\n",
        "\n",
        "    MSEm = [[0 for x in range(1)] for y in range(1200)]\n",
        "    eixox = [[0 for x in range(1)] for y in range(1200)] \n",
        "    \n",
        "    N = len(X)\n",
        "    for t in range(1200):\n",
        "        #calcule os erros do modelo\n",
        "        y_pred = w0 + w1 * X\n",
        "        e1 = sum(y_real - y_pred)\n",
        "        e2 = sum((y_real - y_pred) * X)\n",
        "\n",
        "        #atualize os parâmetros\n",
        "        w0 = w0 + alfa * 1/N * e1\n",
        "        w1 = w1 + alfa * 1/N * e2\n",
        "\n",
        "        MSEm[t][0] = MSE(y_real, y_pred)\n",
        "        eixox[t][0] = t\n",
        "\n",
        "    plt.plot(eixox, MSEm, color=\"black\")\n",
        "    plt.title(\"MSE ao longo das iterações do GD\")\n",
        "    plt.xlabel(\"Iterações\")\n",
        "    plt.ylabel(\"Função custo\")\n",
        "    plt.show()\n",
        "\n",
        "    return y_pred, w0, w1"
      ],
      "metadata": {
        "id": "6T6leJaWfiHy"
      },
      "execution_count": null,
      "outputs": []
    },
    {
      "cell_type": "markdown",
      "source": [
        "**Parâmetros do modelo e Curva de Aprendizagem do algoritmo:**\n",
        "\n"
      ],
      "metadata": {
        "id": "LWC6mmPWoOuz"
      }
    },
    {
      "cell_type": "code",
      "source": [
        "y_predGD, w0, w1 = GD(X, y_real)"
      ],
      "metadata": {
        "colab": {
          "base_uri": "https://localhost:8080/",
          "height": 295
        },
        "id": "_TOQxSuen1IX",
        "outputId": "184a1014-79d0-46d3-83b5-e6070e1e9abb"
      },
      "execution_count": null,
      "outputs": [
        {
          "output_type": "display_data",
          "data": {
            "text/plain": [
              "<Figure size 432x288 with 1 Axes>"
            ],
            "image/png": "[encoded data removed]"
          },
          "metadata": {
            "needs_background": "light"
          }
        }
      ]
    },
    {
      "cell_type": "code",
      "source": [
        "print(w0, w1)"
      ],
      "metadata": {
        "colab": {
          "base_uri": "https://localhost:8080/"
        },
        "id": "HqMCjrJqWZ6B",
        "outputId": "60818133-e8d5-42ac-b1a6-811c2cd974e0"
      },
      "execution_count": null,
      "outputs": [
        {
          "output_type": "stream",
          "name": "stdout",
          "text": [
            "[0.06761753] [1.55314097]\n"
          ]
        }
      ]
    },
    {
      "cell_type": "markdown",
      "source": [
        "**MSE (erro quadrático médio) obtidos pelo algoritmo:**"
      ],
      "metadata": {
        "id": "jljD6K68oXa2"
      }
    },
    {
      "cell_type": "code",
      "source": [
        "MSE_GD = MSE(y_real, y_predGD)\n",
        "MSE_GD"
      ],
      "metadata": {
        "colab": {
          "base_uri": "https://localhost:8080/"
        },
        "id": "gFifuwkmoagz",
        "outputId": "957fb2ff-8299-49ec-ef5f-532935c165a1"
      },
      "execution_count": null,
      "outputs": [
        {
          "output_type": "execute_result",
          "data": {
            "text/plain": [
              "0.21357026899258522"
            ]
          },
          "metadata": {},
          "execution_count": 187
        }
      ]
    },
    {
      "cell_type": "markdown",
      "source": [
        "**Reta resultante sobre os dados:**"
      ],
      "metadata": {
        "id": "qs80wRYSo4FN"
      }
    },
    {
      "cell_type": "code",
      "source": [
        "plt.scatter(X, y_real)\n",
        "plt.plot(X, y_predGD, color=\"red\")\n",
        "plt.show()"
      ],
      "metadata": {
        "colab": {
          "base_uri": "https://localhost:8080/",
          "height": 265
        },
        "id": "49kQVEi1ox9T",
        "outputId": "55fe7f71-19fa-4909-c25c-c766d2f20f39"
      },
      "execution_count": null,
      "outputs": [
        {
          "output_type": "display_data",
          "data": {
            "text/plain": [
              "<Figure size 432x288 with 1 Axes>"
            ],
            "image/png": "[encoded data removed]"
          },
          "metadata": {
            "needs_background": "light"
          }
        }
      ]
    },
    {
      "cell_type": "markdown",
      "source": [
        "### **Item C)**\n",
        "\n",
        "---\n",
        "\n"
      ],
      "metadata": {
        "id": "03MLUySVv4hi"
      }
    },
    {
      "cell_type": "code",
      "source": [
        "# Regressão Linear via SGD (stochastic gradiente descendente)\n",
        "def SGD(X, y_real):\n",
        "    #um valor alfa positivo pequeno\n",
        "    alfa = 0.01\n",
        "\n",
        "    #inicializando os parametros na iteração 0\n",
        "    w0 = 0\n",
        "    w1 = 0\n",
        "\n",
        "    MSEm = [[0 for x in range(1)] for y in range(1200)]\n",
        "    eixox = [[0 for x in range(1)] for y in range(1200)] \n",
        "\n",
        "    N = len(X)\n",
        "    y_pred = [[0 for x in range(1)] for y in range(N)]\n",
        "    e1 = [[0 for x in range(1)] for y in range(N)]\n",
        "    t = 0\n",
        "    \n",
        "    xy = np.c_[X, y_real]\n",
        "    while t < 1200:\n",
        "        #permute aleatoriamente a ordem dos dados\n",
        "        np.random.permutation(xy)\n",
        "        x = xy[:, [0]]\n",
        "        y = xy[:, [1]]\n",
        "        \n",
        "        for i in range(N):\n",
        "            #calcule os erros do modelo\n",
        "            y_pred[i] = w0 + w1 * x[i]\n",
        "            e1[i] = y[i] - y_pred[i]\n",
        "\n",
        "            #atualize os parâmetros\n",
        "            w0 = w0 + alfa * e1[i]\n",
        "            w1 = w1 + alfa * e1[i] * x[i]\n",
        "\n",
        "            MSEm[t][0] = MSE(y, y_pred)\n",
        "            eixox[t][0] = t\n",
        "\n",
        "            t = t + 1\n",
        "\n",
        "    plt.plot(eixox, MSEm, color=\"black\")\n",
        "    plt.title(\"MSE ao longo das iterações do SGD\")\n",
        "    plt.xlabel(\"Iterações\")\n",
        "    plt.ylabel(\"Função custo\")\n",
        "    plt.show()\n",
        "\n",
        "    return y_pred, w0, w1"
      ],
      "metadata": {
        "id": "Bs4iJVmnv5Ra"
      },
      "execution_count": null,
      "outputs": []
    },
    {
      "cell_type": "markdown",
      "source": [
        "**Parâmetros do modelo e Curva de Aprendizagem do algoritmo:**"
      ],
      "metadata": {
        "id": "3ywSSmurWpFT"
      }
    },
    {
      "cell_type": "code",
      "source": [
        "y_predSGD, w0SGD, w1SGD = SGD(X, y_real)"
      ],
      "metadata": {
        "colab": {
          "base_uri": "https://localhost:8080/",
          "height": 295
        },
        "id": "LhyHUc35WtkD",
        "outputId": "15c96ff0-e9df-4c4e-dde8-5684bda20202"
      },
      "execution_count": null,
      "outputs": [
        {
          "output_type": "display_data",
          "data": {
            "text/plain": [
              "<Figure size 432x288 with 1 Axes>"
            ],
            "image/png": "[encoded data removed]"
          },
          "metadata": {
            "needs_background": "light"
          }
        }
      ]
    },
    {
      "cell_type": "code",
      "source": [
        "print(w0SGD, w1SGD)"
      ],
      "metadata": {
        "colab": {
          "base_uri": "https://localhost:8080/"
        },
        "id": "INu5cVJbW7xA",
        "outputId": "c4a43026-ce47-4c68-ae40-b463c4aa06c2"
      },
      "execution_count": null,
      "outputs": [
        {
          "output_type": "stream",
          "name": "stdout",
          "text": [
            "[0.06842115] [1.55398015]\n"
          ]
        }
      ]
    },
    {
      "cell_type": "markdown",
      "source": [
        "**MSE (erro quadrático médio) obtidos pelo algoritmo:**"
      ],
      "metadata": {
        "id": "ss24iVt0XfG8"
      }
    },
    {
      "cell_type": "code",
      "source": [
        "MSE_SGD = MSE(y_real, y_predSGD)\n",
        "MSE_SGD"
      ],
      "metadata": {
        "colab": {
          "base_uri": "https://localhost:8080/"
        },
        "id": "bgdwg_VFXjRD",
        "outputId": "76f0cd5e-df54-46a2-da30-5439ea5a414e"
      },
      "execution_count": null,
      "outputs": [
        {
          "output_type": "execute_result",
          "data": {
            "text/plain": [
              "0.21634432896453734"
            ]
          },
          "metadata": {},
          "execution_count": 67
        }
      ]
    },
    {
      "cell_type": "markdown",
      "source": [
        "**Reta resultante sobre os dados:**"
      ],
      "metadata": {
        "id": "V16r-B2eX3Zq"
      }
    },
    {
      "cell_type": "code",
      "source": [
        "plt.scatter(X, y_real)\n",
        "plt.plot(X, y_predSGD, color=\"red\")\n",
        "plt.show()"
      ],
      "metadata": {
        "colab": {
          "base_uri": "https://localhost:8080/",
          "height": 265
        },
        "id": "e8Qv5mXsXppj",
        "outputId": "53266b3b-b9d7-40d1-9730-033e80bfced7"
      },
      "execution_count": null,
      "outputs": [
        {
          "output_type": "display_data",
          "data": {
            "text/plain": [
              "<Figure size 432x288 with 1 Axes>"
            ],
            "image/png": "[encoded data removed]"
          },
          "metadata": {
            "needs_background": "light"
          }
        }
      ]
    },
    {
      "cell_type": "markdown",
      "source": [
        "## **Questão 02:**"
      ],
      "metadata": {
        "id": "XFYHsthhy_7B"
      }
    },
    {
      "cell_type": "code",
      "source": [
        ""
      ],
      "metadata": {
        "id": "0Ty09eJxzBcb"
      },
      "execution_count": null,
      "outputs": []
    }
  ]
}