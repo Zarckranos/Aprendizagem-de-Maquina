{
  "nbformat": 4,
  "nbformat_minor": 0,
  "metadata": {
    "colab": {
      "name": "Lista1_AMA.ipynb",
      "provenance": [],
      "collapsed_sections": []
    },
    "kernelspec": {
      "name": "python3",
      "display_name": "Python 3"
    },
    "language_info": {
      "name": "python"
    }
  },
  "cells": [
    {
      "cell_type": "markdown",
      "source": [
        "# **Lista 1 - Regressão linear, polinomial e regularização**\n",
        "\n",
        "## Aprendizagem de Máquina - 2022.1\n",
        "## Matheus do Vale Almeida - 473219"
      ],
      "metadata": {
        "id": "bYnXguypJu4T"
      }
    },
    {
      "cell_type": "code",
      "execution_count": 202,
      "metadata": {
        "id": "UCngrbMGJLvC"
      },
      "outputs": [],
      "source": [
        "import numpy as np\n",
        "import matplotlib.pyplot as plt # Biblioteca para gerar gráficos"
      ]
    },
    {
      "cell_type": "markdown",
      "source": [
        "## **Questão 01:**"
      ],
      "metadata": {
        "id": "mtRWdH7yKJL9"
      }
    },
    {
      "cell_type": "code",
      "source": [
        "artificial1_dataset = np.genfromtxt('./artificial1d.csv', delimiter=',')"
      ],
      "metadata": {
        "id": "F12EGkq1Kd1U"
      },
      "execution_count": 203,
      "outputs": []
    },
    {
      "cell_type": "code",
      "source": [
        "# Entrada de dados\n",
        "uns = np.ones((artificial1_dataset.shape[0], 1))\n",
        "X = artificial1_dataset[:, [0]]\n",
        "X_uns = np.c_[uns, X]\n",
        "y_real = artificial1_dataset[:, [1]]"
      ],
      "metadata": {
        "id": "WYQn_j2JYGek"
      },
      "execution_count": 204,
      "outputs": []
    },
    {
      "cell_type": "code",
      "source": [
        "# MSE (erro quadrático médio)\n",
        "def MSE (y_real, y_pred):\n",
        "    return np.mean((y_real - y_pred) ** 2)"
      ],
      "metadata": {
        "id": "UgC1l_n7U0px"
      },
      "execution_count": 205,
      "outputs": []
    },
    {
      "cell_type": "code",
      "source": [
        "# Normalização escore-Z\n",
        "def normalZ(X):\n",
        "    N = len(X)\n",
        "\n",
        "    mi = np.mean(X)\n",
        "    desvio = np.sqrt((1/N-1) * (sum(X - mi) ** 2))\n",
        "\n",
        "    return (X - mi) / desvio"
      ],
      "metadata": {
        "id": "o9nui0uDyJ_2"
      },
      "execution_count": 206,
      "outputs": []
    },
    {
      "cell_type": "code",
      "source": [
        "# Desnormalização\n",
        "def desnormalZ(X):\n",
        "    N = len(X)\n",
        "\n",
        "    mi = np.mean(X)\n",
        "    desvio = np.sqrt((1/N-1) * (sum(X - mi) ** 2))\n",
        "\n",
        "    return desvio * X + mi"
      ],
      "metadata": {
        "id": "5CSVoMhLzHiu"
      },
      "execution_count": 207,
      "outputs": []
    },
    {
      "cell_type": "markdown",
      "source": [
        "### **Item A)**\n",
        "\n",
        "---\n",
        "\n"
      ],
      "metadata": {
        "id": "_A57NduiNWoS"
      }
    },
    {
      "cell_type": "code",
      "source": [
        "# Regressão Linear via mínimos quadrados ordinários (OLS)\n",
        "def OLS (X, y):\n",
        "    w = np.linalg.inv(X.T @ X) @ X.T @ y\n",
        "    return w"
      ],
      "metadata": {
        "id": "OQyTxrAaLlId"
      },
      "execution_count": null,
      "outputs": []
    },
    {
      "cell_type": "markdown",
      "source": [
        "**Parâmetros do modelo:**"
      ],
      "metadata": {
        "id": "U2tOS_X8ZlU6"
      }
    },
    {
      "cell_type": "code",
      "source": [
        "w = OLS(X_uns, y_real)\n",
        "w"
      ],
      "metadata": {
        "colab": {
          "base_uri": "https://localhost:8080/"
        },
        "id": "jBYcqwGuZsMb",
        "outputId": "95d6bb8d-b0da-4623-fbc6-572baaaa2647"
      },
      "execution_count": null,
      "outputs": [
        {
          "output_type": "execute_result",
          "data": {
            "text/plain": [
              "array([[0.06761792],\n",
              "       [1.57486517]])"
            ]
          },
          "metadata": {},
          "execution_count": 7
        }
      ]
    },
    {
      "cell_type": "markdown",
      "source": [
        "**MSE (erro quadrático médio) obtidos pelo algoritmo:**"
      ],
      "metadata": {
        "id": "dkJ0ixosZ5Aw"
      }
    },
    {
      "cell_type": "code",
      "source": [
        "y_pred = X_uns @ w\n",
        "MSE = MSE(y_real, y_pred)\n",
        "MSE"
      ],
      "metadata": {
        "colab": {
          "base_uri": "https://localhost:8080/"
        },
        "id": "VUwxENPnZ6gk",
        "outputId": "c688f36b-b7da-4882-b28b-2521b274a012"
      },
      "execution_count": null,
      "outputs": [
        {
          "output_type": "execute_result",
          "data": {
            "text/plain": [
              "0.21340090132936987"
            ]
          },
          "metadata": {},
          "execution_count": 8
        }
      ]
    },
    {
      "cell_type": "markdown",
      "source": [
        "**Reta resultante sobre os dados:**"
      ],
      "metadata": {
        "id": "H3_-4hLAbGo-"
      }
    },
    {
      "cell_type": "code",
      "source": [
        "plt.scatter(X, y_real)\n",
        "plt.plot(X, y_pred, color='red')\n",
        "plt.title(\"Reta resultante sobre os dados\")\n",
        "plt.show()"
      ],
      "metadata": {
        "colab": {
          "base_uri": "https://localhost:8080/",
          "height": 281
        },
        "id": "_xplfi4dbLLJ",
        "outputId": "ff8b731e-399a-42a6-f2a2-51fd2be5b4bd"
      },
      "execution_count": null,
      "outputs": [
        {
          "output_type": "display_data",
          "data": {
            "text/plain": [
              "<Figure size 432x288 with 1 Axes>"
            ],
            "image/png": "[encoded data removed]"
          },
          "metadata": {
            "needs_background": "light"
          }
        }
      ]
    },
    {
      "cell_type": "markdown",
      "source": [
        "# **Item B)**\n",
        "\n",
        "---\n"
      ],
      "metadata": {
        "id": "bpKZ6ps8fRVI"
      }
    },
    {
      "cell_type": "code",
      "source": [
        "# Regressão Linear via GD (gradiente descendente)\n",
        "def GD(X, y_real):\n",
        "    #um valor alfa positivo pequeno\n",
        "    alfa = 0.01\n",
        "\n",
        "    #inicializando os parametros na iteração 0\n",
        "    w0 = 0\n",
        "    w1 = 0\n",
        "\n",
        "    MSEm = [[0 for x in range(1)] for y in range(1200)]\n",
        "    eixox = [[0 for x in range(1)] for y in range(1200)] \n",
        "    \n",
        "    N = len(X)\n",
        "    for t in range(1200):\n",
        "        #calcule os erros do modelo\n",
        "        y_pred = w0 + w1 * X\n",
        "        e1 = sum(y_real - y_pred)\n",
        "        e2 = sum((y_real - y_pred) * X)\n",
        "\n",
        "        #atualize os parâmetros\n",
        "        w0 = w0 + alfa * 1/N * e1\n",
        "        w1 = w1 + alfa * 1/N * e2\n",
        "\n",
        "        MSEm[t][0] = MSE(y_real, y_pred)\n",
        "        eixox[t][0] = t\n",
        "\n",
        "    plt.plot(eixox, MSEm, color=\"black\")\n",
        "    plt.title(\"MSE ao longo das iterações do GD\")\n",
        "    plt.xlabel(\"Iterações\")\n",
        "    plt.ylabel(\"Função custo\")\n",
        "    plt.show()\n",
        "\n",
        "    return y_pred, w0, w1"
      ],
      "metadata": {
        "id": "6T6leJaWfiHy"
      },
      "execution_count": null,
      "outputs": []
    },
    {
      "cell_type": "markdown",
      "source": [
        "**Parâmetros do modelo e Curva de Aprendizagem do algoritmo:**\n",
        "\n"
      ],
      "metadata": {
        "id": "LWC6mmPWoOuz"
      }
    },
    {
      "cell_type": "code",
      "source": [
        "y_predGD, w0, w1 = GD(X, y_real)"
      ],
      "metadata": {
        "colab": {
          "base_uri": "https://localhost:8080/",
          "height": 295
        },
        "id": "_TOQxSuen1IX",
        "outputId": "184a1014-79d0-46d3-83b5-e6070e1e9abb"
      },
      "execution_count": null,
      "outputs": [
        {
          "output_type": "display_data",
          "data": {
            "text/plain": [
              "<Figure size 432x288 with 1 Axes>"
            ],
            "image/png": "[encoded data removed]"
          },
          "metadata": {
            "needs_background": "light"
          }
        }
      ]
    },
    {
      "cell_type": "code",
      "source": [
        "print(w0, w1)"
      ],
      "metadata": {
        "colab": {
          "base_uri": "https://localhost:8080/"
        },
        "id": "HqMCjrJqWZ6B",
        "outputId": "60818133-e8d5-42ac-b1a6-811c2cd974e0"
      },
      "execution_count": null,
      "outputs": [
        {
          "output_type": "stream",
          "name": "stdout",
          "text": [
            "[0.06761753] [1.55314097]\n"
          ]
        }
      ]
    },
    {
      "cell_type": "markdown",
      "source": [
        "**MSE (erro quadrático médio) obtidos pelo algoritmo:**"
      ],
      "metadata": {
        "id": "jljD6K68oXa2"
      }
    },
    {
      "cell_type": "code",
      "source": [
        "MSE_GD = MSE(y_real, y_predGD)\n",
        "MSE_GD"
      ],
      "metadata": {
        "colab": {
          "base_uri": "https://localhost:8080/"
        },
        "id": "gFifuwkmoagz",
        "outputId": "957fb2ff-8299-49ec-ef5f-532935c165a1"
      },
      "execution_count": null,
      "outputs": [
        {
          "output_type": "execute_result",
          "data": {
            "text/plain": [
              "0.21357026899258522"
            ]
          },
          "metadata": {},
          "execution_count": 187
        }
      ]
    },
    {
      "cell_type": "markdown",
      "source": [
        "**Reta resultante sobre os dados:**"
      ],
      "metadata": {
        "id": "qs80wRYSo4FN"
      }
    },
    {
      "cell_type": "code",
      "source": [
        "plt.scatter(X, y_real)\n",
        "plt.plot(X, y_predGD, color=\"red\")\n",
        "plt.show()"
      ],
      "metadata": {
        "colab": {
          "base_uri": "https://localhost:8080/",
          "height": 265
        },
        "id": "49kQVEi1ox9T",
        "outputId": "55fe7f71-19fa-4909-c25c-c766d2f20f39"
      },
      "execution_count": null,
      "outputs": [
        {
          "output_type": "display_data",
          "data": {
            "text/plain": [
              "<Figure size 432x288 with 1 Axes>"
            ],
            "image/png": "[encoded data removed]"
          },
          "metadata": {
            "needs_background": "light"
          }
        }
      ]
    },
    {
      "cell_type": "markdown",
      "source": [
        "### **Item C)**\n",
        "\n",
        "---\n",
        "\n"
      ],
      "metadata": {
        "id": "03MLUySVv4hi"
      }
    },
    {
      "cell_type": "code",
      "source": [
        "import random"
      ],
      "metadata": {
        "id": "PTlLJ05CjAjG"
      },
      "execution_count": null,
      "outputs": []
    },
    {
      "cell_type": "code",
      "source": [
        "# Regressão Linear via SGD (stochastic gradiente descendente)\n",
        "def SGD(X, y_real):\n",
        "    #um valor alfa positivo pequeno\n",
        "    alfa = 0.01\n",
        "\n",
        "    #inicializando os parametros na iteração 0\n",
        "    w0 = 0\n",
        "    w1 = 0\n",
        "\n",
        "    MSEm = [[0 for x in range(1)] for y in range(1200)]\n",
        "    eixox = [[0 for x in range(1)] for y in range(1200)] \n",
        "\n",
        "    N = len(X)\n",
        "    y_pred = [[0 for x in range(1)] for y in range(N)]\n",
        "    e1 = [[0 for x in range(1)] for y in range(N)]\n",
        "    t = 0\n",
        "\n",
        "    while t < 1200:\n",
        "        #permute aleatoriamente a ordem dos dados\n",
        "        xy = np.c_[X, y_real]\n",
        "        random.shuffle(xy)\n",
        "        x = xy[:, [0]]\n",
        "        y = xy[:, [1]]\n",
        "        \n",
        "        for i in range(N):\n",
        "            #calcule os erros do modelo\n",
        "            y_pred[i] = w0 + w1 * x[i]\n",
        "            e1[i] = y[i] - y_pred[i]\n",
        "\n",
        "            #atualize os parâmetros\n",
        "            w0 = w0 + alfa * e1[i]\n",
        "            w1 = w1 + alfa * e1[i] * x[i]\n",
        "\n",
        "            MSEm[t][0] = MSE(y, y_pred)\n",
        "            eixox[t][0] = t\n",
        "\n",
        "            t = t + 1\n",
        "\n",
        "    plt.plot(eixox, MSEm, color=\"black\")\n",
        "    plt.title(\"MSE ao longo das iterações do GD\")\n",
        "    plt.xlabel(\"Iterações\")\n",
        "    plt.ylabel(\"Função custo\")\n",
        "    plt.show()\n",
        "\n",
        "    return y_pred, w0, w1"
      ],
      "metadata": {
        "id": "Bs4iJVmnv5Ra"
      },
      "execution_count": 309,
      "outputs": []
    },
    {
      "cell_type": "markdown",
      "source": [
        "**Parâmetros do modelo e Curva de Aprendizagem do algoritmo:**"
      ],
      "metadata": {
        "id": "3ywSSmurWpFT"
      }
    },
    {
      "cell_type": "code",
      "source": [
        "y_predSGD, w0SGD, w1SGD = SGD(X, y_real)"
      ],
      "metadata": {
        "colab": {
          "base_uri": "https://localhost:8080/",
          "height": 295
        },
        "id": "LhyHUc35WtkD",
        "outputId": "d54d80d9-8187-4032-8f75-14b0c3321887"
      },
      "execution_count": 310,
      "outputs": [
        {
          "output_type": "display_data",
          "data": {
            "text/plain": [
              "<Figure size 432x288 with 1 Axes>"
            ],
            "image/png": "[encoded data removed]"
          },
          "metadata": {
            "needs_background": "light"
          }
        }
      ]
    },
    {
      "cell_type": "code",
      "source": [
        "print(w0SGD, w1SGD)"
      ],
      "metadata": {
        "colab": {
          "base_uri": "https://localhost:8080/"
        },
        "id": "INu5cVJbW7xA",
        "outputId": "9432a3d6-83a6-488a-8f91-11f74d0f8a69"
      },
      "execution_count": 307,
      "outputs": [
        {
          "output_type": "stream",
          "name": "stdout",
          "text": [
            "[-0.00583454] [1.44175358]\n"
          ]
        }
      ]
    },
    {
      "cell_type": "markdown",
      "source": [
        "**MSE (erro quadrático médio) obtidos pelo algoritmo:**"
      ],
      "metadata": {
        "id": "ss24iVt0XfG8"
      }
    },
    {
      "cell_type": "code",
      "source": [
        "MSE_SGD = MSE(y_real, y_predSGD)\n",
        "MSE_SGD"
      ],
      "metadata": {
        "colab": {
          "base_uri": "https://localhost:8080/"
        },
        "id": "bgdwg_VFXjRD",
        "outputId": "a7d73692-e649-4f17-a2a8-5ba95d24bb15"
      },
      "execution_count": 308,
      "outputs": [
        {
          "output_type": "execute_result",
          "data": {
            "text/plain": [
              "1.1945574698977386"
            ]
          },
          "metadata": {},
          "execution_count": 308
        }
      ]
    },
    {
      "cell_type": "markdown",
      "source": [
        "**Reta resultante sobre os dados:**"
      ],
      "metadata": {
        "id": "V16r-B2eX3Zq"
      }
    },
    {
      "cell_type": "code",
      "source": [
        "plt.scatter(X, y_real)\n",
        "plt.plot(X, y_predSGD, color=\"red\")\n",
        "plt.show()"
      ],
      "metadata": {
        "colab": {
          "base_uri": "https://localhost:8080/",
          "height": 265
        },
        "id": "e8Qv5mXsXppj",
        "outputId": "6dcac976-a13e-4729-f46e-2ad5ffc4695a"
      },
      "execution_count": 288,
      "outputs": [
        {
          "output_type": "display_data",
          "data": {
            "text/plain": [
              "<Figure size 432x288 with 1 Axes>"
            ],
            "image/png": "[encoded data removed]"
          },
          "metadata": {
            "needs_background": "light"
          }
        }
      ]
    }
  ]
}