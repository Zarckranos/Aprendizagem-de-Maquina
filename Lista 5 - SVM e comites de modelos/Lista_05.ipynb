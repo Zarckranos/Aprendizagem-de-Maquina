{
  "nbformat": 4,
  "nbformat_minor": 0,
  "metadata": {
    "colab": {
      "name": "Lista_05.ipynb",
      "provenance": []
    },
    "kernelspec": {
      "name": "python3",
      "display_name": "Python 3"
    },
    "language_info": {
      "name": "python"
    }
  },
  "cells": [
    {
      "cell_type": "markdown",
      "source": [
        "<div align=\"center\">\n",
        "<h1>Lista 05 - SVM e comitês de modelos</h1>\n",
        "\n",
        "<h3>Aprendizagem de Máquina (CK0193)</h3>\n",
        "<b>Aluna:</b> Samyra Vitória Lima de Almeida <b>Matrícula:</b> 521240 <br>\n",
        "<b>Email:</b> samyraalmeida@alu.ufc.br <br>\n",
        "</div>\n",
        "\n",
        "<br>\n",
        "\n",
        "### Questão 1\n",
        "\n",
        "**a)**\n",
        "    **i. SVM**"
      ],
      "metadata": {
        "id": "dbPFtDIv7O0S"
      }
    },
    {
      "cell_type": "code",
      "source": [
        "import numpy as np\n",
        "import matplotlib.pyplot as plt  # Biblioteca para gerar gráficos\n",
        "import random\n",
        "data = np.genfromtxt('./californiabin.csv', delimiter=',')\n"
      ],
      "metadata": {
        "id": "G87BhBDw9icz"
      },
      "execution_count": null,
      "outputs": []
    },
    {
      "cell_type": "code",
      "source": [
        "from sklearn.svm import SVC # Import Support Vector Machine\n",
        "from sklearn.model_selection import cross_val_score, train_test_split\n",
        "from sklearn.metrics import accuracy_score, recall_score, precision_score, f1_score, roc_curve, roc_auc_score, auc, precision_recall_curve"
      ],
      "metadata": {
        "id": "Dh6j_S35GfBJ"
      },
      "execution_count": 63,
      "outputs": []
    },
    {
      "cell_type": "code",
      "source": [
        "# Separa e normaliza o dataset\n",
        "n_columns = data.shape[1]\n",
        "np.random.permutation(data)\n",
        "\n",
        "X = data[:, 0 : (n_columns - 1)] # np.c_[np.ones((n,1)),data[:, [0, n - 1]]]\n",
        "X_mean = np.mean(X)\n",
        "X_std = np.std(X)\n",
        "X_norm = (X - X_mean) / X_std\n",
        "\n",
        "y = data[:, [n_columns - 1]]\n",
        "y = y.reshape(y.shape[1], y.shape[0])[0]\n",
        "\n",
        "# Build hiperparameters lists\n",
        "gamma_list = [2 ** i for i in range(-15, 2, 2)] + [2 ** i for i in [2, 3]]\n",
        "C_list = [2 ** i for i in range(-5, 16, 2)]\n",
        "\n",
        "param_grid = dict(gamma=gamma_list, C=C_list)"
      ],
      "metadata": {
        "id": "vIUshtA2Hrn9"
      },
      "execution_count": 64,
      "outputs": []
    },
    {
      "cell_type": "code",
      "source": [
        "# Calcula os melhores hiperparametros para o modelo SVM \n",
        "X_train, X_test, y_train, y_test = train_test_split(X_norm, y, test_size=0.3)\n",
        "\n",
        "cross_val_scores = []\n",
        "\n",
        "for C in C_list:\n",
        "    for gamma in gamma_list:\n",
        "        clf = SVC(C=C, kernel=\"rbf\", gamma=gamma)\n",
        "        scores = cross_val_score(clf, X_train, y_train, cv=10)\n",
        "        cross_val_scores.append([np.mean(scores), C, gamma])\n",
        "        \n",
        "        # print(\n",
        "        #     \"C: %.5f gamma: %.5f score: %0.5f\"\n",
        "        #     % (C, gamma, np.mean(scores))\n",
        "        # )\n",
        "\n",
        "best_index = np.argmax(cross_val_scores, axis=0)[0]\n",
        "print(\"Melhor score do cross-validation: {:.3f}\".format(cross_val_scores[best_index][0]))\n",
        "best_C, best_gamma = cross_val_scores[best_index][1], cross_val_scores[best_index][2]\n",
        "print(\"Melhores hiperparametros são C = %.5f e gama = %.5f\" % (best_C, best_gamma))"
      ],
      "metadata": {
        "colab": {
          "base_uri": "https://localhost:8080/"
        },
        "id": "HRAmLFYMwOCP",
        "outputId": "d0f095cf-d969-4e03-91d6-5d782872ea7f"
      },
      "execution_count": 65,
      "outputs": [
        {
          "output_type": "stream",
          "name": "stdout",
          "text": [
            "Melhor score do cross-validation: 0.842\n",
            "Melhores hiperparametros são C = 32768.00000 e gama = 0.12500\n"
          ]
        }
      ]
    },
    {
      "cell_type": "code",
      "source": [
        "# Treino o modelo SVM\n",
        "model = SVC(C=best_C, gamma=best_gamma, probability=True)\n",
        "model.fit(X_train, y_train)\n",
        "y_pred = model.predict(X_test)\n",
        "\n",
        "print(\"METRICAS\\n\")\n",
        "print(\"Acurácia\", accuracy_score(y_test, y_pred))\n",
        "print(\"Revocação\", recall_score(y_test, y_pred))\n",
        "print(\"Precisão\", precision_score(y_test, y_pred))\n",
        "print(\"F1-score\", f1_score(y_test, y_pred))"
      ],
      "metadata": {
        "colab": {
          "base_uri": "https://localhost:8080/"
        },
        "id": "8EiavGxyf6C_",
        "outputId": "7fcc1e99-341d-49dc-a40a-4593da4f2fea"
      },
      "execution_count": 68,
      "outputs": [
        {
          "output_type": "stream",
          "name": "stdout",
          "text": [
            "METRICAS\n",
            "\n",
            "Acurácia 0.8311111111111111\n",
            "Revocação 0.8171806167400881\n",
            "Precisão 0.8431818181818181\n",
            "F1-score 0.8299776286353469\n"
          ]
        }
      ]
    },
    {
      "cell_type": "code",
      "source": [
        "ns_probs = [0 for _ in range(len(y_test))]\n",
        "svm_probs = model.predict_proba(X_test)\n",
        "\n",
        "svm_probs = svm_probs[:, 1]\n",
        "ns_auc = roc_auc_score(y_test, ns_probs)\n",
        "svm_auc = roc_auc_score(y_test, svm_probs)\n",
        "\n",
        "print('No Skill: ROC AUC=%.3f' % (ns_auc))\n",
        "print('SVM: ROC AUC=%.3f' % (svm_auc))\n",
        "\n",
        "# Calcula a curva roc\n",
        "ns_fpr, ns_tpr, _ = roc_curve(y_test, ns_probs)\n",
        "svm_fpr, svm_tpr, _ = roc_curve(y_test, svm_probs)\n",
        "\n",
        "# Plota a curva\n",
        "plt.plot(ns_fpr, ns_tpr, linestyle='--', label='No Skill')\n",
        "plt.plot(svm_fpr, svm_tpr, marker='.', label='SVM')\n",
        "\n",
        "plt.xlabel('Taxa de Falsos Positivos')\n",
        "plt.ylabel('Taxa de Verdadeiros Positivos')\n",
        "\n",
        "# show the legend\n",
        "plt.legend()\n",
        "# show the plot\n",
        "plt.show()"
      ],
      "metadata": {
        "colab": {
          "base_uri": "https://localhost:8080/",
          "height": 316
        },
        "id": "Js_i1Nsgc7_4",
        "outputId": "355d86fb-3cb8-4cbb-9315-ed523e0d3880"
      },
      "execution_count": 69,
      "outputs": [
        {
          "output_type": "stream",
          "name": "stdout",
          "text": [
            "No Skill: ROC AUC=0.500\n",
            "SVM: ROC AUC=0.909\n"
          ]
        },
        {
          "output_type": "display_data",
          "data": {
            "text/plain": [
              "<Figure size 432x288 with 1 Axes>"
            ],
            "image/png": "[encoded data removed]"
          },
          "metadata": {
            "needs_background": "light"
          }
        }
      ]
    },
    {
      "cell_type": "code",
      "source": [
        "svm_precision, svm_recall, _ = precision_recall_curve(y_test, svm_probs)\n",
        "svm_f1, svm_auc = f1_score(y_test, y_pred), auc(svm_recall, svm_precision)\n",
        "\n",
        "print(\"SVM: auc %.3f\" % (svm_auc))\n",
        "\n",
        "no_skill = len(y_test[y_test == 1]) / len(y_test)\n",
        "plt.plot([0, 1], [no_skill, no_skill], linestyle='--', label='No Skill')\n",
        "plt.plot(svm_recall, svm_precision, marker='.', label='SVM')\n",
        "plt.xlabel('Revocação')\n",
        "plt.ylabel('Precisão')\n",
        "\n",
        "# show the legend\n",
        "plt.legend()\n",
        "# show the plot\n",
        "plt.show()"
      ],
      "metadata": {
        "colab": {
          "base_uri": "https://localhost:8080/",
          "height": 297
        },
        "id": "c95plXYVhEXU",
        "outputId": "55b11ca4-2df1-4c8f-f0c4-e99859bb5ba6"
      },
      "execution_count": 72,
      "outputs": [
        {
          "output_type": "stream",
          "name": "stdout",
          "text": [
            "SVM: auc 0.914\n"
          ]
        },
        {
          "output_type": "display_data",
          "data": {
            "text/plain": [
              "<Figure size 432x288 with 1 Axes>"
            ],
            "image/png": "[encoded data removed]"
          },
          "metadata": {
            "needs_background": "light"
          }
        }
      ]
    }
  ]
}