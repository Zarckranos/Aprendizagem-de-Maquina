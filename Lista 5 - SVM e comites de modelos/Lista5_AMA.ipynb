{
  "nbformat": 4,
  "nbformat_minor": 0,
  "metadata": {
    "colab": {
      "name": "Lista5_AMA.ipynb",
      "provenance": []
    },
    "kernelspec": {
      "name": "python3",
      "display_name": "Python 3"
    },
    "language_info": {
      "name": "python"
    }
  },
  "cells": [
    {
      "cell_type": "markdown",
      "source": [
        "# **Lista 5 - SVM e comitês de modelos**\n",
        "\n",
        "## Aprendizagem de Máquina - 2022.1\n",
        "## Matheus do Vale Almeida - 473219\n",
        "\n",
        "\n",
        "---\n",
        "\n"
      ],
      "metadata": {
        "id": "jKBM5qCE9S3J"
      }
    },
    {
      "cell_type": "code",
      "execution_count": 22,
      "metadata": {
        "id": "zmiSEO547c9D",
        "colab": {
          "base_uri": "https://localhost:8080/"
        },
        "outputId": "9e724897-93a6-4d46-f98a-76732abd6b12"
      },
      "outputs": [
        {
          "output_type": "stream",
          "name": "stdout",
          "text": [
            "Número de amostras  - datasetQ1: 3000\n",
            "Número de dimensões - datasetQ1: 8\n",
            "Número de classes   - datasetQ1: 2\n",
            "\n"
          ]
        }
      ],
      "source": [
        "import numpy as np\n",
        "import matplotlib.pyplot as plt\n",
        "\n",
        "from sklearn.svm import SVC\n",
        "from sklearn.ensemble import RandomForestClassifier\n",
        "\n",
        "from sklearn.preprocessing import StandardScaler\n",
        "from sklearn import metrics\n",
        "from sklearn.model_selection import train_test_split, GridSearchCV\n",
        "\n",
        "dataset = \"californiabin\"\n",
        "\n",
        "# Dados para a Questão =========================================================\n",
        "data = np.genfromtxt(f\"{dataset}.csv\", delimiter=',')\n",
        "X = data[:,:-1]\n",
        "y = data[:,-1].astype(int)\n",
        "\n",
        "print(f\"Número de amostras  - datasetQ1: {X.shape[0]}\")\n",
        "print(f\"Número de dimensões - datasetQ1: {X.shape[1]}\")\n",
        "print(f\"Número de classes   - datasetQ1: {np.unique(y).shape[0]}\\n\")"
      ]
    },
    {
      "cell_type": "markdown",
      "source": [
        "## Divisão treino - teste"
      ],
      "metadata": {
        "id": "x7YjC7qB9zHe"
      }
    },
    {
      "cell_type": "code",
      "source": [
        "np.random.seed(12345)\n",
        "\n",
        "X_train, X_test, y_train, y_test = train_test_split(X, y, test_size=0.3)"
      ],
      "metadata": {
        "id": "ddujY4vF91Cx"
      },
      "execution_count": 23,
      "outputs": []
    },
    {
      "cell_type": "markdown",
      "source": [
        "\n",
        "\n",
        "---\n",
        "\n",
        "\n",
        "\n",
        "---\n",
        "\n"
      ],
      "metadata": {
        "id": "v8yicnmJENm7"
      }
    },
    {
      "cell_type": "markdown",
      "source": [
        "## Treinamento dos Modelos"
      ],
      "metadata": {
        "id": "BR9DwiJQPyUT"
      }
    },
    {
      "cell_type": "code",
      "source": [
        "hiperparametros = {\n",
        "    'C': [pow(2,-5), pow(2,-3), pow(2,-1), pow(2,1), pow(2,3), pow(2,5), pow(2,7), pow(2,9), pow(2,11), pow(2,13), pow(2,15)],\n",
        "    'gamma': [pow(2,-15), pow(2,-13), pow(2,-11), pow(2,-9), pow(2,-7), pow(2,-5), pow(2,-3), pow(2,-1), pow(2,1), pow(2,3)],\n",
        "}\n",
        "\n",
        "SVMgrid = GridSearchCV(SVC(kernel='rbf'), hiperparametros, cv=10)\n",
        "SVMgrid.fit(X_train, y_train)"
      ],
      "metadata": {
        "colab": {
          "base_uri": "https://localhost:8080/"
        },
        "id": "77n2ShzHEOLE",
        "outputId": "31ae5647-d0c7-42d2-d8e5-5b2df49d9ac9"
      },
      "execution_count": 24,
      "outputs": [
        {
          "output_type": "execute_result",
          "data": {
            "text/plain": [
              "GridSearchCV(cv=10, estimator=SVC(),\n",
              "             param_grid={'C': [0.03125, 0.125, 0.5, 2, 8, 32, 128, 512, 2048,\n",
              "                               8192, 32768],\n",
              "                         'gamma': [3.0517578125e-05, 0.0001220703125,\n",
              "                                   0.00048828125, 0.001953125, 0.0078125,\n",
              "                                   0.03125, 0.125, 0.5, 2, 8]})"
            ]
          },
          "metadata": {},
          "execution_count": 24
        }
      ]
    },
    {
      "cell_type": "code",
      "source": [
        "print(\"SVM - Hiperparâmetros selecionados: \")\n",
        "SVMgrid.best_params_"
      ],
      "metadata": {
        "colab": {
          "base_uri": "https://localhost:8080/"
        },
        "id": "xDPwrcrDMgxc",
        "outputId": "2ea4daba-bda7-4141-8c83-7c844146a692"
      },
      "execution_count": 25,
      "outputs": [
        {
          "output_type": "stream",
          "name": "stdout",
          "text": [
            "SVM - Hiperparâmetros selecionados: \n"
          ]
        },
        {
          "output_type": "execute_result",
          "data": {
            "text/plain": [
              "{'C': 32768, 'gamma': 3.0517578125e-05}"
            ]
          },
          "metadata": {},
          "execution_count": 25
        }
      ]
    },
    {
      "cell_type": "code",
      "source": [
        "param_grid = {\n",
        "    'n_estimators': [10, 20, 30, 40, 50, 60, 70, 80, 90, 100, 110, 120, 130, 140, 150, 160, 170, 180, 190, 200],\n",
        "    'max_depth': [2, 4, 6, 8, 'None']\n",
        "}\n",
        "\n",
        "RFgrid = GridSearchCV(RandomForestClassifier(), param_grid, cv=10)\n",
        "RFgrid.fit(X_train, y_train)"
      ],
      "metadata": {
        "colab": {
          "base_uri": "https://localhost:8080/"
        },
        "id": "c_B74KcxP-75",
        "outputId": "293537d6-9c62-4786-ddf5-fc5d8cf14fd5"
      },
      "execution_count": 26,
      "outputs": [
        {
          "output_type": "stream",
          "name": "stderr",
          "text": [
            "/usr/local/lib/python3.7/dist-packages/sklearn/model_selection/_validation.py:372: FitFailedWarning: \n",
            "200 fits failed out of a total of 1000.\n",
            "The score on these train-test partitions for these parameters will be set to nan.\n",
            "If these failures are not expected, you can try to debug them by setting error_score='raise'.\n",
            "\n",
            "Below are more details about the failures:\n",
            "--------------------------------------------------------------------------------\n",
            "200 fits failed with the following error:\n",
            "Traceback (most recent call last):\n",
            "  File \"/usr/local/lib/python3.7/dist-packages/sklearn/model_selection/_validation.py\", line 680, in _fit_and_score\n",
            "    estimator.fit(X_train, y_train, **fit_params)\n",
            "  File \"/usr/local/lib/python3.7/dist-packages/sklearn/ensemble/_forest.py\", line 467, in fit\n",
            "    for i, t in enumerate(trees)\n",
            "  File \"/usr/local/lib/python3.7/dist-packages/joblib/parallel.py\", line 1043, in __call__\n",
            "    if self.dispatch_one_batch(iterator):\n",
            "  File \"/usr/local/lib/python3.7/dist-packages/joblib/parallel.py\", line 861, in dispatch_one_batch\n",
            "    self._dispatch(tasks)\n",
            "  File \"/usr/local/lib/python3.7/dist-packages/joblib/parallel.py\", line 779, in _dispatch\n",
            "    job = self._backend.apply_async(batch, callback=cb)\n",
            "  File \"/usr/local/lib/python3.7/dist-packages/joblib/_parallel_backends.py\", line 208, in apply_async\n",
            "    result = ImmediateResult(func)\n",
            "  File \"/usr/local/lib/python3.7/dist-packages/joblib/_parallel_backends.py\", line 572, in __init__\n",
            "    self.results = batch()\n",
            "  File \"/usr/local/lib/python3.7/dist-packages/joblib/parallel.py\", line 263, in __call__\n",
            "    for func, args, kwargs in self.items]\n",
            "  File \"/usr/local/lib/python3.7/dist-packages/joblib/parallel.py\", line 263, in <listcomp>\n",
            "    for func, args, kwargs in self.items]\n",
            "  File \"/usr/local/lib/python3.7/dist-packages/sklearn/utils/fixes.py\", line 216, in __call__\n",
            "    return self.function(*args, **kwargs)\n",
            "  File \"/usr/local/lib/python3.7/dist-packages/sklearn/ensemble/_forest.py\", line 185, in _parallel_build_trees\n",
            "    tree.fit(X, y, sample_weight=curr_sample_weight, check_input=False)\n",
            "  File \"/usr/local/lib/python3.7/dist-packages/sklearn/tree/_classes.py\", line 942, in fit\n",
            "    X_idx_sorted=X_idx_sorted,\n",
            "  File \"/usr/local/lib/python3.7/dist-packages/sklearn/tree/_classes.py\", line 305, in fit\n",
            "    if max_depth <= 0:\n",
            "TypeError: '<=' not supported between instances of 'str' and 'int'\n",
            "\n",
            "  warnings.warn(some_fits_failed_message, FitFailedWarning)\n",
            "/usr/local/lib/python3.7/dist-packages/sklearn/model_selection/_search.py:972: UserWarning: One or more of the test scores are non-finite: [0.77904762 0.77904762 0.78619048 0.79095238 0.8        0.78952381\n",
            " 0.79333333 0.7847619  0.79142857 0.79714286 0.79285714 0.79333333\n",
            " 0.79142857 0.79238095 0.79380952 0.79714286 0.79571429 0.79714286\n",
            " 0.79666667 0.79666667 0.81761905 0.82619048 0.81952381 0.83095238\n",
            " 0.82904762 0.82714286 0.8252381  0.83095238 0.82666667 0.8247619\n",
            " 0.82333333 0.82761905 0.82761905 0.83190476 0.83285714 0.82904762\n",
            " 0.83095238 0.83095238 0.83047619 0.82619048 0.83952381 0.84571429\n",
            " 0.85       0.84619048 0.85095238 0.84952381 0.85285714 0.85238095\n",
            " 0.85333333 0.84809524 0.85142857 0.85333333 0.85285714 0.85333333\n",
            " 0.85190476 0.85047619 0.85619048 0.8552381  0.85285714 0.85380952\n",
            " 0.85       0.86047619 0.86142857 0.86666667 0.86666667 0.86238095\n",
            " 0.86285714 0.86428571 0.86190476 0.86904762 0.86571429 0.86190476\n",
            " 0.8647619  0.86571429 0.86619048 0.87333333 0.86380952 0.8652381\n",
            " 0.86857143 0.86761905        nan        nan        nan        nan\n",
            "        nan        nan        nan        nan        nan        nan\n",
            "        nan        nan        nan        nan        nan        nan\n",
            "        nan        nan        nan        nan]\n",
            "  category=UserWarning,\n"
          ]
        },
        {
          "output_type": "execute_result",
          "data": {
            "text/plain": [
              "GridSearchCV(cv=10, estimator=RandomForestClassifier(),\n",
              "             param_grid={'max_depth': [2, 4, 6, 8, 'None'],\n",
              "                         'n_estimators': [10, 20, 30, 40, 50, 60, 70, 80, 90,\n",
              "                                          100, 110, 120, 130, 140, 150, 160,\n",
              "                                          170, 180, 190, 200]})"
            ]
          },
          "metadata": {},
          "execution_count": 26
        }
      ]
    },
    {
      "cell_type": "code",
      "source": [
        "print(\"Random Forest - Hiperparâmetros selecionados: \")\n",
        "RFgrid.best_params_"
      ],
      "metadata": {
        "colab": {
          "base_uri": "https://localhost:8080/"
        },
        "id": "ilj16FHiTtRz",
        "outputId": "5e2d26ad-5949-41c0-dc20-b687561ed937"
      },
      "execution_count": 27,
      "outputs": [
        {
          "output_type": "stream",
          "name": "stdout",
          "text": [
            "Random Forest - Hiperparâmetros selecionados: \n"
          ]
        },
        {
          "output_type": "execute_result",
          "data": {
            "text/plain": [
              "{'max_depth': 8, 'n_estimators': 160}"
            ]
          },
          "metadata": {},
          "execution_count": 27
        }
      ]
    },
    {
      "cell_type": "markdown",
      "source": [
        "## Métricas de Classificação"
      ],
      "metadata": {
        "id": "4bOLnkR5P48W"
      }
    },
    {
      "cell_type": "code",
      "source": [
        "SVM_pred = SVMgrid.predict(X_test)\n",
        "\n",
        "print(f\"Summary for the classifier SVM with accuracy {metrics.accuracy_score(y_test, SVM_pred):.3f}\")\n",
        "print(metrics.classification_report(y_test, SVM_pred))"
      ],
      "metadata": {
        "colab": {
          "base_uri": "https://localhost:8080/"
        },
        "id": "t1DGGZRlOtdk",
        "outputId": "9853363b-e2f6-45a2-8722-db0821789c48"
      },
      "execution_count": 28,
      "outputs": [
        {
          "output_type": "stream",
          "name": "stdout",
          "text": [
            "Summary for the classifier SVM with accuracy 0.797\n",
            "              precision    recall  f1-score   support\n",
            "\n",
            "           0       0.80      0.78      0.79       445\n",
            "           1       0.79      0.81      0.80       455\n",
            "\n",
            "    accuracy                           0.80       900\n",
            "   macro avg       0.80      0.80      0.80       900\n",
            "weighted avg       0.80      0.80      0.80       900\n",
            "\n"
          ]
        }
      ]
    },
    {
      "cell_type": "code",
      "source": [
        "RF_pred = RFgrid.predict(X_test)\n",
        "\n",
        "print(f\"Summary for the classifier Random Forest with accuracy {metrics.accuracy_score(y_test, RF_pred):.3f}\")\n",
        "print(metrics.classification_report(y_test, RF_pred))"
      ],
      "metadata": {
        "colab": {
          "base_uri": "https://localhost:8080/"
        },
        "id": "HFZa70F9T8Ya",
        "outputId": "244f891a-10c0-45e2-e638-d2c80ddf3cca"
      },
      "execution_count": 29,
      "outputs": [
        {
          "output_type": "stream",
          "name": "stdout",
          "text": [
            "Summary for the classifier Random Forest with accuracy 0.848\n",
            "              precision    recall  f1-score   support\n",
            "\n",
            "           0       0.83      0.87      0.85       445\n",
            "           1       0.87      0.82      0.85       455\n",
            "\n",
            "    accuracy                           0.85       900\n",
            "   macro avg       0.85      0.85      0.85       900\n",
            "weighted avg       0.85      0.85      0.85       900\n",
            "\n"
          ]
        }
      ]
    },
    {
      "cell_type": "markdown",
      "source": [
        "## Curvas ROC e PR"
      ],
      "metadata": {
        "id": "B-DSc7ETUK9z"
      }
    },
    {
      "cell_type": "code",
      "source": [
        "# Plota curva ROC    \n",
        "plt.figure(figsize=(7,6))\n",
        "fprSVM, tprSVM, thresholdsSVM = metrics.roc_curve(y_test, SVM_pred)\n",
        "plt.plot(fprSVM, tprSVM, lw=3, label=f\"SVM (AUROC = {metrics.auc(fprSVM, tprSVM):0.2f})\")\n",
        "\n",
        "fprRF, tprRF, thresholdsRF = metrics.roc_curve(y_test, RF_pred)\n",
        "plt.plot(fprRF, tprRF, lw=3, label=f\"Random Forest (AUROC = {metrics.auc(fprRF, tprRF):0.2f})\")\n",
        "\n",
        "plt.plot([0, 1], [0, 1], color='navy', lw=3, linestyle='--')\n",
        "plt.xlim([0.0, 1.0])\n",
        "plt.ylim([0.0, 1.05])\n",
        "plt.xlabel('False Positive Rate')\n",
        "plt.ylabel('True Positive Rate')\n",
        "plt.title('Receiver operating characteristic (ROC) curve')\n",
        "plt.legend(loc=\"lower right\")\n",
        "plt.show()"
      ],
      "metadata": {
        "colab": {
          "base_uri": "https://localhost:8080/",
          "height": 404
        },
        "id": "TFeRVFMFUOM8",
        "outputId": "cbb2a3fb-9a6e-480d-fe5f-28431f8b7214"
      },
      "execution_count": 30,
      "outputs": [
        {
          "output_type": "display_data",
          "data": {
            "text/plain": [
              "<Figure size 504x432 with 1 Axes>"
            ],
            "image/png": "[encoded data removed]"
          },
          "metadata": {
            "needs_background": "light"
          }
        }
      ]
    },
    {
      "cell_type": "code",
      "source": [
        "# Plota curva PR    \n",
        "plt.figure(figsize=(7,6))\n",
        "precisionSVM, recallSVM, thresholdsSVM = metrics.precision_recall_curve(y_test, SVM_pred)\n",
        "plt.plot(recallSVM, precisionSVM, lw=3, label=f\"SVM (AUPRC = {metrics.auc(recallSVM, precisionSVM):0.2f})\")\n",
        "\n",
        "precisionRF, recallRF, thresholdsRF = metrics.precision_recall_curve(y_test, RF_pred)\n",
        "plt.plot(recallRF, precisionRF, lw=3, label=f\"Random Forest (AUPRC = {metrics.auc(recallRF, precisionRF):0.2f})\")\n",
        "\n",
        "positive_ratio = np.mean(y_test == 1)\n",
        "plt.plot([0, 1], [positive_ratio, positive_ratio], color='navy', lw=3, linestyle='--')\n",
        "plt.xlim([0.0, 1.0])\n",
        "plt.ylim([0.0, 1.05])\n",
        "plt.xlabel('Recall')\n",
        "plt.ylabel('Precision')\n",
        "plt.title('Precision-Recall (PR) curve')\n",
        "plt.legend(loc=\"lower right\")\n",
        "plt.show()"
      ],
      "metadata": {
        "colab": {
          "base_uri": "https://localhost:8080/",
          "height": 404
        },
        "id": "025pnIwnVPoo",
        "outputId": "d04cd7fc-a334-440d-d5ac-08893e5d7e2b"
      },
      "execution_count": 31,
      "outputs": [
        {
          "output_type": "display_data",
          "data": {
            "text/plain": [
              "<Figure size 504x432 with 1 Axes>"
            ],
            "image/png": "[encoded data removed]"
          },
          "metadata": {
            "needs_background": "light"
          }
        }
      ]
    }
  ]
}