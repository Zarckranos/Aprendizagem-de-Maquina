{
  "nbformat": 4,
  "nbformat_minor": 0,
  "metadata": {
    "colab": {
      "name": "KNN.ipynb",
      "provenance": [],
      "collapsed_sections": []
    },
    "kernelspec": {
      "name": "python3",
      "display_name": "Python 3"
    },
    "language_info": {
      "name": "python"
    }
  },
  "cells": [
    {
      "cell_type": "code",
      "source": [
        "# Manipulação dos dados\n",
        "import numpy as np\n",
        "import pandas as pd\n",
        "import matplotlib.pyplot as plt\n",
        "\n",
        "from sklearn.neighbors import KNeighborsClassifier\n",
        "from sklearn.preprocessing import StandardScaler\n",
        "from sklearn.preprocessing import OneHotEncoder, LabelEncoder\n",
        "\n",
        "from sklearn import metrics\n",
        "\n",
        "from sklearn.model_selection import train_test_split, GridSearchCV"
      ],
      "metadata": {
        "id": "27EMnzlAjVKH"
      },
      "execution_count": null,
      "outputs": []
    },
    {
      "cell_type": "code",
      "source": [
        "# Definir random seed\n",
        "np.random.seed(42)"
      ],
      "metadata": {
        "id": "CoC-syzZ9kre"
      },
      "execution_count": null,
      "outputs": []
    },
    {
      "cell_type": "code",
      "source": [
        "# Carregar os dados de codificação\n",
        "encoder = pd.read_csv(\"encoder.csv\", header=None)\n",
        "\n",
        "# Conversão de pandas para numpy\n",
        "encoder = encoder.to_numpy().tolist()\n",
        "\n",
        "encoder = [x[0] for x in encoder]\n",
        "\n",
        "print(encoder)"
      ],
      "metadata": {
        "colab": {
          "base_uri": "https://localhost:8080/"
        },
        "id": "TNfYZE5_0dBK",
        "outputId": "70f0d8bc-5965-4180-fa95-47c3ea3fdbc2"
      },
      "execution_count": null,
      "outputs": [
        {
          "output_type": "stream",
          "name": "stdout",
          "text": [
            "['BERHI', 'DEGLET', 'DOKOL', 'IRAQI', 'ROTANA', 'SAFAVI', 'SOGAY']\n"
          ]
        }
      ]
    },
    {
      "cell_type": "markdown",
      "source": [
        "### Carregar os dados completos"
      ],
      "metadata": {
        "id": "znHrI8mB9fmR"
      }
    },
    {
      "cell_type": "code",
      "source": [
        "train_comp = np.genfromtxt(\"./train_comp.csv\",delimiter=\",\")\n",
        "test_comp = np.genfromtxt(\"./test_comp.csv\",delimiter=\",\")\n",
        "\n",
        "folds_comp = []\n",
        "\n",
        "for k in range(10):\n",
        "    file_name = \"./fold_comp_\" + str(k) + \".csv\"\n",
        "    folds_comp.append(np.genfromtxt(file_name,delimiter=\",\"))\n",
        "    print(folds_comp[k].shape)\n",
        "\n",
        "# Normalizador dos dados completos\n",
        "scaler_comp = StandardScaler()\n",
        "scaler_comp.fit(train_comp[:,:-1])"
      ],
      "metadata": {
        "id": "x88aOa2jkVWS",
        "colab": {
          "base_uri": "https://localhost:8080/"
        },
        "outputId": "03537c64-bd19-473e-e549-5d0a4f98ea70"
      },
      "execution_count": null,
      "outputs": [
        {
          "output_type": "stream",
          "name": "stdout",
          "text": [
            "(72, 35)\n",
            "(72, 35)\n",
            "(72, 35)\n",
            "(72, 35)\n",
            "(72, 35)\n",
            "(72, 35)\n",
            "(72, 35)\n",
            "(72, 35)\n",
            "(71, 35)\n",
            "(71, 35)\n"
          ]
        },
        {
          "output_type": "execute_result",
          "data": {
            "text/plain": [
              "StandardScaler()"
            ]
          },
          "metadata": {},
          "execution_count": 105
        }
      ]
    },
    {
      "cell_type": "markdown",
      "source": [
        "### Carregar os dados Reduzidos 25 Dimensões"
      ],
      "metadata": {
        "id": "h1aU9tq09o8s"
      }
    },
    {
      "cell_type": "code",
      "source": [
        "train_red_25 = np.genfromtxt(\"./train_red_25.csv\",delimiter=\",\")\n",
        "test_red_25 = np.genfromtxt(\"./test_red_25.csv\",delimiter=\",\")\n",
        "\n",
        "folds_red_25 = []\n",
        "\n",
        "for k in range(10):\n",
        "    file_name = \"./fold_red_25_\" + str(k) + \".csv\"\n",
        "    folds_red_25.append(np.genfromtxt(file_name,delimiter=\",\"))\n",
        "    print(folds_red_25[k].shape)\n",
        "\n",
        "# Normalizador dos Dados Reduzidos\n",
        "scaler_red_25 = StandardScaler()\n",
        "scaler_red_25.fit(train_red_25[:,:-1])"
      ],
      "metadata": {
        "colab": {
          "base_uri": "https://localhost:8080/"
        },
        "id": "w0sf06iJ9l77",
        "outputId": "312187ad-d921-472f-8441-5e6dae13900b"
      },
      "execution_count": null,
      "outputs": [
        {
          "output_type": "stream",
          "name": "stdout",
          "text": [
            "(72, 26)\n",
            "(72, 26)\n",
            "(72, 26)\n",
            "(72, 26)\n",
            "(72, 26)\n",
            "(72, 26)\n",
            "(72, 26)\n",
            "(72, 26)\n",
            "(71, 26)\n",
            "(71, 26)\n"
          ]
        },
        {
          "output_type": "execute_result",
          "data": {
            "text/plain": [
              "StandardScaler()"
            ]
          },
          "metadata": {},
          "execution_count": 106
        }
      ]
    },
    {
      "cell_type": "markdown",
      "source": [
        "### Carregar os dados Reduzidos 10 Dimensões"
      ],
      "metadata": {
        "id": "4_0OilZz916v"
      }
    },
    {
      "cell_type": "code",
      "source": [
        "train_red_10 = np.genfromtxt(\"./train_red_10.csv\",delimiter=\",\")\n",
        "test_red_10 = np.genfromtxt(\"./test_red_10.csv\",delimiter=\",\")\n",
        "\n",
        "folds_red_10 = []\n",
        "\n",
        "for k in range(10):\n",
        "    file_name = \"./fold_red_10_\" + str(k) + \".csv\"\n",
        "    folds_red_10.append(np.genfromtxt(file_name,delimiter=\",\"))\n",
        "    print(folds_red_10[k].shape)\n",
        "\n",
        "# Normalizador dos Dados Reduzidos\n",
        "scaler_red_10 = StandardScaler()\n",
        "scaler_red_10.fit(train_red_10[:,:-1])"
      ],
      "metadata": {
        "colab": {
          "base_uri": "https://localhost:8080/"
        },
        "id": "k205GkHF9vHP",
        "outputId": "c03f92df-6999-474f-c320-f836610cd631"
      },
      "execution_count": null,
      "outputs": [
        {
          "output_type": "stream",
          "name": "stdout",
          "text": [
            "(72, 11)\n",
            "(72, 11)\n",
            "(72, 11)\n",
            "(72, 11)\n",
            "(72, 11)\n",
            "(72, 11)\n",
            "(72, 11)\n",
            "(72, 11)\n",
            "(71, 11)\n",
            "(71, 11)\n"
          ]
        },
        {
          "output_type": "execute_result",
          "data": {
            "text/plain": [
              "StandardScaler()"
            ]
          },
          "metadata": {},
          "execution_count": 107
        }
      ]
    },
    {
      "cell_type": "markdown",
      "source": [
        "### One Hot Encoder"
      ],
      "metadata": {
        "id": "UdKsvjFU95Tv"
      }
    },
    {
      "cell_type": "code",
      "source": [
        "# One Hot Encoder - Converter a saída no estilo de saídas One Hot Encoding\n",
        "encOH = OneHotEncoder(handle_unknown='ignore')\n",
        "encOH.fit(train_comp[:,-1].reshape((-1,1)))\n",
        "\n",
        "# Cross Entropy\n",
        "def cross_entropy(y,log_proba_y_pred,OHencoder=encOH):\n",
        "    if(len(y.shape) == 1):\n",
        "        y = OHencoder.transform(y.reshape((-1,1))).toarray()\n",
        "    return (-1)*np.mean(np.sum(y*log_proba_y_pred,axis=1),axis=0)"
      ],
      "metadata": {
        "id": "pmr5gwUj-hxr"
      },
      "execution_count": null,
      "outputs": []
    },
    {
      "cell_type": "markdown",
      "source": [
        "\n",
        "\n",
        "---"
      ],
      "metadata": {
        "id": "6Fqn3rT099C5"
      }
    },
    {
      "cell_type": "code",
      "source": [
        "def GridSearch_CV(distancia, k_range, folds, scaler):\n",
        "    models_cv_scores = []\n",
        "\n",
        "    for param, dist in enumerate(distancia):\n",
        "        cv_scores = []\n",
        "\n",
        "        for w in range(len(k_range)):\n",
        "            model = KNeighborsClassifier(\n",
        "                n_neighbors = k_range[w],\n",
        "                p = distancia[param]\n",
        "            )\n",
        "\n",
        "            # Validação cruzada\n",
        "            for i in range(len(folds)):\n",
        "\n",
        "                # Escolhe um fold como validação\n",
        "                data_valid = folds[i]\n",
        "\n",
        "                # Concatena todos os outros folds como conjunto de treino\n",
        "                data_train = np.empty((0,data_valid.shape[1]))\n",
        "\n",
        "                for j in range(len(folds)):\n",
        "                    if(j == i):\n",
        "                        continue\n",
        "                    data_train = np.r_[folds[j], data_train]\n",
        "\n",
        "                # Separação e normalização dos dados\n",
        "                X_train = scaler.transform(data_train[:,:-1])\n",
        "                X_valid = scaler.transform(data_valid[:,:-1])\n",
        "\n",
        "                Y_train = data_train[:,-1]\n",
        "                Y_valid = data_valid[:,-1]\n",
        "\n",
        "                # Treinar o modelo com os dados de treinamento\n",
        "                model.fit(X_train, Y_train)\n",
        "\n",
        "                # Verificar a acurácia com dados de validação\n",
        "                cv_scores.append(model.score(X_valid, Y_valid))\n",
        "            \n",
        "            models_cv_scores.append(np.mean(np.array(cv_scores),axis = 0))\n",
        "\n",
        "            print(\"MODELO \", len(models_cv_scores), \n",
        "                \"-> Acurácia média na Validação Cruzada: {:,.5f}\".format(\n",
        "                    models_cv_scores[len(models_cv_scores) - 1]))\n",
        "    \n",
        "    # Obter o melhor modelo\n",
        "    best_model = models_cv_scores.index(max(models_cv_scores))\n",
        "\n",
        "    # Informações sobre o melhor modelo\n",
        "    print(\"\\n------------------------------------------------------------\\n\")\n",
        "    print(\"\\tMelhor Modelo KNN: MODELO \", best_model + 1)\n",
        "\n",
        "    if(best_model + 1 <= len(models_cv_scores) / 2):\n",
        "        print(\"\\nQuantidade de vizinhos: \", k_range[best_model])\n",
        "        print(\"\\Melhor distancia: manhattan_distance (l1), p = 1\")\n",
        "        return best_model, 0\n",
        "    \n",
        "    idx = int(best_model - len(models_cv_scores) / 2)\n",
        "    print(\"Quantidade de vizinhos: \", k_range[idx])\n",
        "    print(\"Melhor distancia: euclidean_distance (l2), p = 2\")\n",
        "    return idx, 1"
      ],
      "metadata": {
        "id": "4regHMZ5Dryj"
      },
      "execution_count": null,
      "outputs": []
    },
    {
      "cell_type": "code",
      "source": [
        "k_range = list(range(1, 41))\n",
        "distancias = [1, 2]\n",
        "\n",
        "def retrainKNN(k, dist, train, test, scaler):\n",
        "    model = KNeighborsClassifier(\n",
        "            n_neighbors=k_range[k],\n",
        "            p = dist\n",
        "        )\n",
        "\n",
        "    # Separação e normalização dos dados\n",
        "    X_train = scaler.transform(train[:,:-1])\n",
        "    X_test = scaler.transform(test[:,:-1])\n",
        "\n",
        "    Y_train = train[:,-1]\n",
        "    Y_test = test[:,-1]\n",
        "\n",
        "    # Treinamento tradicional\n",
        "    model.fit(X_train, Y_train)\n",
        "    model_pred = model.predict(X_test)\n",
        "    model_proba = model.predict_proba(X_test)[:,1]\n",
        "\n",
        "    # Métricas de classificação\n",
        "    print(f\"Summary for the classifier {k_range[idx_k]}-NN with accuracy {metrics.accuracy_score(Y_test, model_pred):.4f}\")\n",
        "    print(metrics.classification_report(Y_test, model_pred))\n",
        "\n",
        "    return model_pred, model_proba\n",
        "\n",
        "    # Scores obtidos no novo treinamento\n",
        "    #print(\"Acurácia média após novo treinamento: {:,.2f}\".format(\n",
        "    #    model.score(X_test, Y_test)))"
      ],
      "metadata": {
        "id": "gqR7St496E0o"
      },
      "execution_count": null,
      "outputs": []
    },
    {
      "cell_type": "markdown",
      "source": [
        "\n",
        "\n",
        "---\n"
      ],
      "metadata": {
        "id": "BhLb3s9O-AaA"
      }
    },
    {
      "cell_type": "markdown",
      "source": [
        "# KNN com Dados completos\n",
        "## Treinamento do Modelo"
      ],
      "metadata": {
        "id": "CQRQAwdFV07p"
      }
    },
    {
      "cell_type": "code",
      "source": [
        "idx_k, idx_dist = GridSearch_CV(distancias, k_range, folds_comp, scaler_comp)"
      ],
      "metadata": {
        "colab": {
          "base_uri": "https://localhost:8080/"
        },
        "id": "oISoYZGo5eM_",
        "outputId": "10500da7-95bd-4886-f481-fb7647c7aa29"
      },
      "execution_count": null,
      "outputs": [
        {
          "output_type": "stream",
          "name": "stdout",
          "text": [
            "MODELO  1 -> Acurácia média na Validação Cruzada: 0.86209\n",
            "MODELO  2 -> Acurácia média na Validação Cruzada: 0.85029\n",
            "MODELO  3 -> Acurácia média na Validação Cruzada: 0.85332\n",
            "MODELO  4 -> Acurácia média na Validação Cruzada: 0.85657\n",
            "MODELO  5 -> Acurácia média na Validação Cruzada: 0.86298\n",
            "MODELO  6 -> Acurácia média na Validação Cruzada: 0.86748\n",
            "MODELO  7 -> Acurácia média na Validação Cruzada: 0.87009\n",
            "MODELO  8 -> Acurácia média na Validação Cruzada: 0.87154\n",
            "MODELO  9 -> Acurácia média na Validação Cruzada: 0.87342\n",
            "MODELO  10 -> Acurácia média na Validação Cruzada: 0.87424\n",
            "MODELO  11 -> Acurácia média na Validação Cruzada: 0.87541\n",
            "MODELO  12 -> Acurácia média na Validação Cruzada: 0.87581\n",
            "MODELO  13 -> Acurácia média na Validação Cruzada: 0.87658\n",
            "MODELO  14 -> Acurácia média na Validação Cruzada: 0.87673\n",
            "MODELO  15 -> Acurácia média na Validação Cruzada: 0.87687\n",
            "MODELO  16 -> Acurácia média na Validação Cruzada: 0.87743\n",
            "MODELO  17 -> Acurácia média na Validação Cruzada: 0.87758\n",
            "MODELO  18 -> Acurácia média na Validação Cruzada: 0.87811\n",
            "MODELO  19 -> Acurácia média na Validação Cruzada: 0.87844\n",
            "MODELO  20 -> Acurácia média na Validação Cruzada: 0.87867\n",
            "MODELO  21 -> Acurácia média na Validação Cruzada: 0.87887\n",
            "MODELO  22 -> Acurácia média na Validação Cruzada: 0.87944\n",
            "MODELO  23 -> Acurácia média na Validação Cruzada: 0.87971\n",
            "MODELO  24 -> Acurácia média na Validação Cruzada: 0.87990\n",
            "MODELO  25 -> Acurácia média na Validação Cruzada: 0.87991\n",
            "MODELO  26 -> Acurácia média na Validação Cruzada: 0.87992\n",
            "MODELO  27 -> Acurácia média na Validação Cruzada: 0.87983\n",
            "MODELO  28 -> Acurácia média na Validação Cruzada: 0.87964\n",
            "MODELO  29 -> Acurácia média na Validação Cruzada: 0.87957\n",
            "MODELO  30 -> Acurácia média na Validação Cruzada: 0.87954\n",
            "MODELO  31 -> Acurácia média na Validação Cruzada: 0.87943\n",
            "MODELO  32 -> Acurácia média na Validação Cruzada: 0.87914\n",
            "MODELO  33 -> Acurácia média na Validação Cruzada: 0.87901\n",
            "MODELO  34 -> Acurácia média na Validação Cruzada: 0.87879\n",
            "MODELO  35 -> Acurácia média na Validação Cruzada: 0.87856\n",
            "MODELO  36 -> Acurácia média na Validação Cruzada: 0.87829\n",
            "MODELO  37 -> Acurácia média na Validação Cruzada: 0.87785\n",
            "MODELO  38 -> Acurácia média na Validação Cruzada: 0.87751\n",
            "MODELO  39 -> Acurácia média na Validação Cruzada: 0.87708\n",
            "MODELO  40 -> Acurácia média na Validação Cruzada: 0.87660\n",
            "MODELO  41 -> Acurácia média na Validação Cruzada: 0.86350\n",
            "MODELO  42 -> Acurácia média na Validação Cruzada: 0.84819\n",
            "MODELO  43 -> Acurácia média na Validação Cruzada: 0.85516\n",
            "MODELO  44 -> Acurácia média na Validação Cruzada: 0.85866\n",
            "MODELO  45 -> Acurácia média na Validação Cruzada: 0.86158\n",
            "MODELO  46 -> Acurácia média na Validação Cruzada: 0.86446\n",
            "MODELO  47 -> Acurácia média na Validação Cruzada: 0.86631\n",
            "MODELO  48 -> Acurácia média na Validação Cruzada: 0.86806\n",
            "MODELO  49 -> Acurácia média na Validação Cruzada: 0.86941\n",
            "MODELO  50 -> Acurácia média na Validação Cruzada: 0.87035\n",
            "MODELO  51 -> Acurácia média na Validação Cruzada: 0.87163\n",
            "MODELO  52 -> Acurácia média na Validação Cruzada: 0.87247\n",
            "MODELO  53 -> Acurácia média na Validação Cruzada: 0.87327\n",
            "MODELO  54 -> Acurácia média na Validação Cruzada: 0.87387\n",
            "MODELO  55 -> Acurácia média na Validação Cruzada: 0.87401\n",
            "MODELO  56 -> Acurácia média na Validação Cruzada: 0.87422\n",
            "MODELO  57 -> Acurácia média na Validação Cruzada: 0.87449\n",
            "MODELO  58 -> Acurácia média na Validação Cruzada: 0.87473\n",
            "MODELO  59 -> Acurácia média na Validação Cruzada: 0.87494\n",
            "MODELO  60 -> Acurácia média na Validação Cruzada: 0.87514\n",
            "MODELO  61 -> Acurácia média na Validação Cruzada: 0.87511\n",
            "MODELO  62 -> Acurácia média na Validação Cruzada: 0.87509\n",
            "MODELO  63 -> Acurácia média na Validação Cruzada: 0.87507\n",
            "MODELO  64 -> Acurácia média na Validação Cruzada: 0.87516\n",
            "MODELO  65 -> Acurácia média na Validação Cruzada: 0.87503\n",
            "MODELO  66 -> Acurácia média na Validação Cruzada: 0.87528\n",
            "MODELO  67 -> Acurácia média na Validação Cruzada: 0.87526\n",
            "MODELO  68 -> Acurácia média na Validação Cruzada: 0.87529\n",
            "MODELO  69 -> Acurácia média na Validação Cruzada: 0.87517\n",
            "MODELO  70 -> Acurácia média na Validação Cruzada: 0.87506\n",
            "MODELO  71 -> Acurácia média na Validação Cruzada: 0.87482\n",
            "MODELO  72 -> Acurácia média na Validação Cruzada: 0.87459\n",
            "MODELO  73 -> Acurácia média na Validação Cruzada: 0.87430\n",
            "MODELO  74 -> Acurácia média na Validação Cruzada: 0.87423\n",
            "MODELO  75 -> Acurácia média na Validação Cruzada: 0.87412\n",
            "MODELO  76 -> Acurácia média na Validação Cruzada: 0.87413\n",
            "MODELO  77 -> Acurácia média na Validação Cruzada: 0.87396\n",
            "MODELO  78 -> Acurácia média na Validação Cruzada: 0.87375\n",
            "MODELO  79 -> Acurácia média na Validação Cruzada: 0.87345\n",
            "MODELO  80 -> Acurácia média na Validação Cruzada: 0.87320\n",
            "\n",
            "------------------------------------------------------------\n",
            "\n",
            "\tMelhor Modelo KNN: MODELO  26\n",
            "\n",
            "Quantidade de vizinhos:  26\n",
            "\\Melhor distancia: manhattan_distance (l1), p = 1\n"
          ]
        }
      ]
    },
    {
      "cell_type": "markdown",
      "source": [
        "## Retreino do modelo com todos os dados de treinamento\n",
        "### Métricas de Classificação"
      ],
      "metadata": {
        "id": "iZ0C6N7OVvlK"
      }
    },
    {
      "cell_type": "code",
      "source": [
        "model_pred_comp, model_proba_comp = retrainKNN(k_range[idx_k], distancias[idx_dist], train_comp, test_comp, scaler_comp)"
      ],
      "metadata": {
        "colab": {
          "base_uri": "https://localhost:8080/"
        },
        "id": "niul8B_j7Z6x",
        "outputId": "89309e99-5907-4d49-98ba-394e4cf79299"
      },
      "execution_count": null,
      "outputs": [
        {
          "output_type": "stream",
          "name": "stdout",
          "text": [
            "Summary for the classifier 26-NN with accuracy 0.9056\n",
            "              precision    recall  f1-score   support\n",
            "\n",
            "         0.0       1.00      0.75      0.86        16\n",
            "         1.0       0.86      0.60      0.71        20\n",
            "         2.0       0.85      0.97      0.90        34\n",
            "         3.0       0.83      1.00      0.91        15\n",
            "         4.0       0.91      1.00      0.95        39\n",
            "         5.0       1.00      1.00      1.00        42\n",
            "         6.0       0.83      0.71      0.77        14\n",
            "\n",
            "    accuracy                           0.91       180\n",
            "   macro avg       0.90      0.86      0.87       180\n",
            "weighted avg       0.91      0.91      0.90       180\n",
            "\n"
          ]
        }
      ]
    },
    {
      "cell_type": "markdown",
      "source": [
        "### Matriz de confusão"
      ],
      "metadata": {
        "id": "2sGdhnjPVieT"
      }
    },
    {
      "cell_type": "code",
      "source": [
        "test_comp_decoded = []\n",
        "y_pred_ret_comp_test_decoded = []\n",
        "\n",
        "for i in range(test_comp.shape[0]):\n",
        "    test_comp_decoded.append(encoder[int(test_comp[:,-1][i])])\n",
        "    y_pred_ret_comp_test_decoded.append(encoder[int(model_pred_comp[:][i])])\n",
        "\n",
        "cm = metrics.confusion_matrix(test_comp_decoded, y_pred_ret_comp_test_decoded, \n",
        "                              labels=encoder)\n",
        "\n",
        "disp = metrics.ConfusionMatrixDisplay(confusion_matrix=cm, display_labels=encoder)\n",
        "disp.plot(cmap=plt.cm.Blues, xticks_rotation= \"vertical\", )\n",
        "plt.title(f\"Confusion Matrix.\");"
      ],
      "metadata": {
        "colab": {
          "base_uri": "https://localhost:8080/",
          "height": 326
        },
        "id": "iTH8ZV4ZMraN",
        "outputId": "32f4e768-340e-4755-f3c5-09c4f953192a"
      },
      "execution_count": null,
      "outputs": [
        {
          "output_type": "display_data",
          "data": {
            "text/plain": [
              "<Figure size 432x288 with 2 Axes>"
            ],
            "image/png": "[encoded data removed]"
          },
          "metadata": {
            "needs_background": "light"
          }
        }
      ]
    },
    {
      "cell_type": "markdown",
      "source": [
        "# KNN com Dados reduzidos 25 dimensões\n",
        "## Treinamento do Modelo"
      ],
      "metadata": {
        "id": "MNLCuoMX-FSl"
      }
    },
    {
      "cell_type": "code",
      "source": [
        "idx_k_red25, idx_dist_red25 = GridSearch_CV(distancias, k_range, folds_red_25, scaler_red_25)"
      ],
      "metadata": {
        "colab": {
          "base_uri": "https://localhost:8080/"
        },
        "id": "Ms6KCzzH-N0V",
        "outputId": "58bc6bf3-76b3-4d2f-cea5-bece1fcacb24"
      },
      "execution_count": null,
      "outputs": [
        {
          "output_type": "stream",
          "name": "stdout",
          "text": [
            "MODELO  1 -> Acurácia média na Validação Cruzada: 0.84527\n",
            "MODELO  2 -> Acurácia média na Validação Cruzada: 0.83830\n",
            "MODELO  3 -> Acurácia média na Validação Cruzada: 0.84293\n",
            "MODELO  4 -> Acurácia média na Validação Cruzada: 0.84421\n",
            "MODELO  5 -> Acurácia média na Validação Cruzada: 0.84750\n",
            "MODELO  6 -> Acurácia média na Validação Cruzada: 0.85038\n",
            "MODELO  7 -> Acurácia média na Validação Cruzada: 0.85324\n",
            "MODELO  8 -> Acurácia média na Validação Cruzada: 0.85451\n",
            "MODELO  9 -> Acurácia média na Validação Cruzada: 0.85566\n",
            "MODELO  10 -> Acurácia média na Validação Cruzada: 0.85671\n",
            "MODELO  11 -> Acurácia média na Validação Cruzada: 0.85771\n",
            "MODELO  12 -> Acurácia média na Validação Cruzada: 0.85865\n",
            "MODELO  13 -> Acurácia média na Validação Cruzada: 0.85934\n",
            "MODELO  14 -> Acurácia média na Validação Cruzada: 0.86023\n",
            "MODELO  15 -> Acurácia média na Validação Cruzada: 0.86109\n",
            "MODELO  16 -> Acurácia média na Validação Cruzada: 0.86167\n",
            "MODELO  17 -> Acurácia média na Validação Cruzada: 0.86219\n",
            "MODELO  18 -> Acurácia média na Validação Cruzada: 0.86264\n",
            "MODELO  19 -> Acurácia média na Validação Cruzada: 0.86291\n",
            "MODELO  20 -> Acurácia média na Validação Cruzada: 0.86307\n",
            "MODELO  21 -> Acurácia média na Validação Cruzada: 0.86342\n",
            "MODELO  22 -> Acurácia média na Validação Cruzada: 0.86354\n",
            "MODELO  23 -> Acurácia média na Validação Cruzada: 0.86360\n",
            "MODELO  24 -> Acurácia média na Validação Cruzada: 0.86394\n",
            "MODELO  25 -> Acurácia média na Validação Cruzada: 0.86420\n",
            "MODELO  26 -> Acurácia média na Validação Cruzada: 0.86443\n",
            "MODELO  27 -> Acurácia média na Validação Cruzada: 0.86445\n",
            "MODELO  28 -> Acurácia média na Validação Cruzada: 0.86446\n",
            "MODELO  29 -> Acurácia média na Validação Cruzada: 0.86423\n",
            "MODELO  30 -> Acurácia média na Validação Cruzada: 0.86430\n",
            "MODELO  31 -> Acurácia média na Validação Cruzada: 0.86409\n",
            "MODELO  32 -> Acurácia média na Validação Cruzada: 0.86399\n",
            "MODELO  33 -> Acurácia média na Validação Cruzada: 0.86397\n",
            "MODELO  34 -> Acurácia média na Validação Cruzada: 0.86383\n",
            "MODELO  35 -> Acurácia média na Validação Cruzada: 0.86374\n",
            "MODELO  36 -> Acurácia média na Validação Cruzada: 0.86362\n",
            "MODELO  37 -> Acurácia média na Validação Cruzada: 0.86339\n",
            "MODELO  38 -> Acurácia média na Validação Cruzada: 0.86321\n",
            "MODELO  39 -> Acurácia média na Validação Cruzada: 0.86303\n",
            "MODELO  40 -> Acurácia média na Validação Cruzada: 0.86291\n",
            "MODELO  41 -> Acurácia média na Validação Cruzada: 0.85084\n",
            "MODELO  42 -> Acurácia média na Validação Cruzada: 0.83905\n",
            "MODELO  43 -> Acurácia média na Validação Cruzada: 0.84576\n",
            "MODELO  44 -> Acurácia média na Validação Cruzada: 0.84808\n",
            "MODELO  45 -> Acurácia média na Validação Cruzada: 0.84752\n",
            "MODELO  46 -> Acurácia média na Validação Cruzada: 0.85017\n",
            "MODELO  47 -> Acurácia média na Validação Cruzada: 0.85286\n",
            "MODELO  48 -> Acurácia média na Validação Cruzada: 0.85366\n",
            "MODELO  49 -> Acurácia média na Validação Cruzada: 0.85567\n",
            "MODELO  50 -> Acurácia média na Validação Cruzada: 0.85798\n",
            "MODELO  51 -> Acurácia média na Validação Cruzada: 0.86012\n",
            "MODELO  52 -> Acurácia média na Validação Cruzada: 0.86179\n",
            "MODELO  53 -> Acurácia média na Validação Cruzada: 0.86321\n",
            "MODELO  54 -> Acurácia média na Validação Cruzada: 0.86412\n",
            "MODELO  55 -> Acurácia média na Validação Cruzada: 0.86510\n",
            "MODELO  56 -> Acurácia média na Validação Cruzada: 0.86622\n",
            "MODELO  57 -> Acurácia média na Validação Cruzada: 0.86720\n",
            "MODELO  58 -> Acurácia média na Validação Cruzada: 0.86784\n",
            "MODELO  59 -> Acurácia média na Validação Cruzada: 0.86871\n",
            "MODELO  60 -> Acurácia média na Validação Cruzada: 0.86935\n",
            "MODELO  61 -> Acurácia média na Validação Cruzada: 0.86986\n",
            "MODELO  62 -> Acurácia média na Validação Cruzada: 0.87039\n",
            "MODELO  63 -> Acurácia média na Validação Cruzada: 0.87112\n",
            "MODELO  64 -> Acurácia média na Validação Cruzada: 0.87161\n",
            "MODELO  65 -> Acurácia média na Validação Cruzada: 0.87206\n",
            "MODELO  66 -> Acurácia média na Validação Cruzada: 0.87237\n",
            "MODELO  67 -> Acurácia média na Validação Cruzada: 0.87261\n",
            "MODELO  68 -> Acurácia média na Validação Cruzada: 0.87273\n",
            "MODELO  69 -> Acurácia média na Validação Cruzada: 0.87255\n",
            "MODELO  70 -> Acurácia média na Validação Cruzada: 0.87238\n",
            "MODELO  71 -> Acurácia média na Validação Cruzada: 0.87201\n",
            "MODELO  72 -> Acurácia média na Validação Cruzada: 0.87169\n",
            "MODELO  73 -> Acurácia média na Validação Cruzada: 0.87136\n",
            "MODELO  74 -> Acurácia média na Validação Cruzada: 0.87104\n",
            "MODELO  75 -> Acurácia média na Validação Cruzada: 0.87062\n",
            "MODELO  76 -> Acurácia média na Validação Cruzada: 0.87042\n",
            "MODELO  77 -> Acurácia média na Validação Cruzada: 0.87012\n",
            "MODELO  78 -> Acurácia média na Validação Cruzada: 0.86987\n",
            "MODELO  79 -> Acurácia média na Validação Cruzada: 0.86974\n",
            "MODELO  80 -> Acurácia média na Validação Cruzada: 0.86955\n",
            "\n",
            "------------------------------------------------------------\n",
            "\n",
            "\tMelhor Modelo KNN: MODELO  68\n",
            "Quantidade de vizinhos:  28\n",
            "Melhor distancia: euclidean_distance (l2), p = 2\n"
          ]
        }
      ]
    },
    {
      "cell_type": "markdown",
      "source": [
        "## Retreino do modelo com todos os dados de treinamento\n",
        "### Métricas de Classificação"
      ],
      "metadata": {
        "id": "B9lA7aPN-_Xb"
      }
    },
    {
      "cell_type": "code",
      "source": [
        "model_pred_red25, model_proba_red25 = retrainKNN(\n",
        "                                        k_range[idx_k_red25],\n",
        "                                        distancias[idx_dist_red25],\n",
        "                                        train_red_25,\n",
        "                                        test_red_25,\n",
        "                                        scaler_red_25)"
      ],
      "metadata": {
        "colab": {
          "base_uri": "https://localhost:8080/"
        },
        "id": "6Cv49Wav_A1v",
        "outputId": "315436b8-6fdb-4a08-f33e-4522668c9da1"
      },
      "execution_count": null,
      "outputs": [
        {
          "output_type": "stream",
          "name": "stdout",
          "text": [
            "Summary for the classifier 26-NN with accuracy 0.9000\n",
            "              precision    recall  f1-score   support\n",
            "\n",
            "         0.0       1.00      0.69      0.81        16\n",
            "         1.0       0.87      0.65      0.74        20\n",
            "         2.0       0.85      0.97      0.90        34\n",
            "         3.0       0.82      0.93      0.87        15\n",
            "         4.0       0.91      1.00      0.95        39\n",
            "         5.0       1.00      1.00      1.00        42\n",
            "         6.0       0.77      0.71      0.74        14\n",
            "\n",
            "    accuracy                           0.90       180\n",
            "   macro avg       0.89      0.85      0.86       180\n",
            "weighted avg       0.90      0.90      0.90       180\n",
            "\n"
          ]
        }
      ]
    },
    {
      "cell_type": "markdown",
      "source": [
        "### Matriz de confusão"
      ],
      "metadata": {
        "id": "X7GlQoqECH67"
      }
    },
    {
      "cell_type": "code",
      "source": [
        "test_red_25_decoded = []\n",
        "y_pred_ret_red_25_test_decoded = []\n",
        "\n",
        "for i in range(test_red_25.shape[0]):\n",
        "    test_red_25_decoded.append(encoder[int(test_red_25[:,-1][i])])\n",
        "    y_pred_ret_red_25_test_decoded.append(encoder[int(model_pred_red25[:][i])])\n",
        "\n",
        "cm = metrics.confusion_matrix(test_red_25_decoded, y_pred_ret_red_25_test_decoded, \n",
        "                              labels=encoder)\n",
        "\n",
        "disp = metrics.ConfusionMatrixDisplay(confusion_matrix=cm, \n",
        "                                      display_labels=encoder)\n",
        "disp.plot(cmap=plt.cm.Blues, xticks_rotation= \"vertical\", )\n",
        "plt.title(f\"Confusion Matrix.\");"
      ],
      "metadata": {
        "colab": {
          "base_uri": "https://localhost:8080/",
          "height": 326
        },
        "id": "aiN4m0zPB9L9",
        "outputId": "2e8b195b-e5e1-401d-f67d-554a878091a4"
      },
      "execution_count": null,
      "outputs": [
        {
          "output_type": "display_data",
          "data": {
            "text/plain": [
              "<Figure size 432x288 with 2 Axes>"
            ],
            "image/png": "[encoded data removed]"
          },
          "metadata": {
            "needs_background": "light"
          }
        }
      ]
    },
    {
      "cell_type": "markdown",
      "source": [
        "# KNN com Dados reduzidos 10 dimensões\n",
        "## Treinamento do Modelo"
      ],
      "metadata": {
        "id": "jLW5qOFVCgzI"
      }
    },
    {
      "cell_type": "code",
      "source": [
        "idx_k_red10, idx_dist_red10 = GridSearch_CV(distancias, k_range, folds_red_10, scaler_red_10)"
      ],
      "metadata": {
        "colab": {
          "base_uri": "https://localhost:8080/"
        },
        "id": "b2yINEwEChKX",
        "outputId": "350bacbe-989f-4ccf-a624-dd8114c9e754"
      },
      "execution_count": null,
      "outputs": [
        {
          "output_type": "stream",
          "name": "stdout",
          "text": [
            "MODELO  1 -> Acurácia média na Validação Cruzada: 0.82046\n",
            "MODELO  2 -> Acurácia média na Validação Cruzada: 0.80723\n",
            "MODELO  3 -> Acurácia média na Validação Cruzada: 0.81115\n",
            "MODELO  4 -> Acurácia média na Validação Cruzada: 0.81415\n",
            "MODELO  5 -> Acurácia média na Validação Cruzada: 0.81707\n",
            "MODELO  6 -> Acurácia média na Validação Cruzada: 0.81949\n",
            "MODELO  7 -> Acurácia média na Validação Cruzada: 0.82062\n",
            "MODELO  8 -> Acurácia média na Validação Cruzada: 0.82111\n",
            "MODELO  9 -> Acurácia média na Validação Cruzada: 0.82196\n",
            "MODELO  10 -> Acurácia média na Validação Cruzada: 0.82306\n",
            "MODELO  11 -> Acurácia média na Validação Cruzada: 0.82345\n",
            "MODELO  12 -> Acurácia média na Validação Cruzada: 0.82366\n",
            "MODELO  13 -> Acurácia média na Validação Cruzada: 0.82394\n",
            "MODELO  14 -> Acurácia média na Validação Cruzada: 0.82389\n",
            "MODELO  15 -> Acurácia média na Validação Cruzada: 0.82430\n",
            "MODELO  16 -> Acurácia média na Validação Cruzada: 0.82484\n",
            "MODELO  17 -> Acurácia média na Validação Cruzada: 0.82490\n",
            "MODELO  18 -> Acurácia média na Validação Cruzada: 0.82557\n",
            "MODELO  19 -> Acurácia média na Validação Cruzada: 0.82610\n",
            "MODELO  20 -> Acurácia média na Validação Cruzada: 0.82623\n",
            "MODELO  21 -> Acurácia média na Validação Cruzada: 0.82655\n",
            "MODELO  22 -> Acurácia média na Validação Cruzada: 0.82684\n",
            "MODELO  23 -> Acurácia média na Validação Cruzada: 0.82704\n",
            "MODELO  24 -> Acurácia média na Validação Cruzada: 0.82705\n",
            "MODELO  25 -> Acurácia média na Validação Cruzada: 0.82701\n",
            "MODELO  26 -> Acurácia média na Validação Cruzada: 0.82718\n",
            "MODELO  27 -> Acurácia média na Validação Cruzada: 0.82693\n",
            "MODELO  28 -> Acurácia média na Validação Cruzada: 0.82705\n",
            "MODELO  29 -> Acurácia média na Validação Cruzada: 0.82715\n",
            "MODELO  30 -> Acurácia média na Validação Cruzada: 0.82725\n",
            "MODELO  31 -> Acurácia média na Validação Cruzada: 0.82730\n",
            "MODELO  32 -> Acurácia média na Validação Cruzada: 0.82730\n",
            "MODELO  33 -> Acurácia média na Validação Cruzada: 0.82722\n",
            "MODELO  34 -> Acurácia média na Validação Cruzada: 0.82705\n",
            "MODELO  35 -> Acurácia média na Validação Cruzada: 0.82682\n",
            "MODELO  36 -> Acurácia média na Validação Cruzada: 0.82672\n",
            "MODELO  37 -> Acurácia média na Validação Cruzada: 0.82666\n",
            "MODELO  38 -> Acurácia média na Validação Cruzada: 0.82664\n",
            "MODELO  39 -> Acurácia média na Validação Cruzada: 0.82652\n",
            "MODELO  40 -> Acurácia média na Validação Cruzada: 0.82619\n",
            "MODELO  41 -> Acurácia média na Validação Cruzada: 0.81215\n",
            "MODELO  42 -> Acurácia média na Validação Cruzada: 0.80795\n",
            "MODELO  43 -> Acurácia média na Validação Cruzada: 0.81207\n",
            "MODELO  44 -> Acurácia média na Validação Cruzada: 0.81378\n",
            "MODELO  45 -> Acurácia média na Validação Cruzada: 0.81538\n",
            "MODELO  46 -> Acurácia média na Validação Cruzada: 0.81458\n",
            "MODELO  47 -> Acurácia média na Validação Cruzada: 0.81621\n",
            "MODELO  48 -> Acurácia média na Validação Cruzada: 0.81761\n",
            "MODELO  49 -> Acurácia média na Validação Cruzada: 0.81947\n",
            "MODELO  50 -> Acurácia média na Validação Cruzada: 0.82081\n",
            "MODELO  51 -> Acurácia média na Validação Cruzada: 0.82229\n",
            "MODELO  52 -> Acurácia média na Validação Cruzada: 0.82306\n",
            "MODELO  53 -> Acurácia média na Validação Cruzada: 0.82403\n",
            "MODELO  54 -> Acurácia média na Validação Cruzada: 0.82388\n",
            "MODELO  55 -> Acurácia média na Validação Cruzada: 0.82364\n",
            "MODELO  56 -> Acurácia média na Validação Cruzada: 0.82318\n",
            "MODELO  57 -> Acurácia média na Validação Cruzada: 0.82334\n",
            "MODELO  58 -> Acurácia média na Validação Cruzada: 0.82364\n",
            "MODELO  59 -> Acurácia média na Validação Cruzada: 0.82369\n",
            "MODELO  60 -> Acurácia média na Validação Cruzada: 0.82394\n",
            "MODELO  61 -> Acurácia média na Validação Cruzada: 0.82390\n",
            "MODELO  62 -> Acurácia média na Validação Cruzada: 0.82380\n",
            "MODELO  63 -> Acurácia média na Validação Cruzada: 0.82371\n",
            "MODELO  64 -> Acurácia média na Validação Cruzada: 0.82375\n",
            "MODELO  65 -> Acurácia média na Validação Cruzada: 0.82350\n",
            "MODELO  66 -> Acurácia média na Validação Cruzada: 0.82343\n",
            "MODELO  67 -> Acurácia média na Validação Cruzada: 0.82337\n",
            "MODELO  68 -> Acurácia média na Validação Cruzada: 0.82341\n",
            "MODELO  69 -> Acurácia média na Validação Cruzada: 0.82345\n",
            "MODELO  70 -> Acurácia média na Validação Cruzada: 0.82348\n",
            "MODELO  71 -> Acurácia média na Validação Cruzada: 0.82351\n",
            "MODELO  72 -> Acurácia média na Validação Cruzada: 0.82363\n",
            "MODELO  73 -> Acurácia média na Validação Cruzada: 0.82374\n",
            "MODELO  74 -> Acurácia média na Validação Cruzada: 0.82372\n",
            "MODELO  75 -> Acurácia média na Validação Cruzada: 0.82370\n",
            "MODELO  76 -> Acurácia média na Validação Cruzada: 0.82365\n",
            "MODELO  77 -> Acurácia média na Validação Cruzada: 0.82356\n",
            "MODELO  78 -> Acurácia média na Validação Cruzada: 0.82333\n",
            "MODELO  79 -> Acurácia média na Validação Cruzada: 0.82321\n",
            "MODELO  80 -> Acurácia média na Validação Cruzada: 0.82303\n",
            "\n",
            "------------------------------------------------------------\n",
            "\n",
            "\tMelhor Modelo KNN: MODELO  32\n",
            "\n",
            "Quantidade de vizinhos:  32\n",
            "\\Melhor distancia: manhattan_distance (l1), p = 1\n"
          ]
        }
      ]
    },
    {
      "cell_type": "markdown",
      "source": [
        "## Retreino do modelo com todos os dados de treinamento\n",
        "### Métricas de Classificação"
      ],
      "metadata": {
        "id": "-YOJXgi9Cyu-"
      }
    },
    {
      "cell_type": "code",
      "source": [
        "model_pred_red10, model_proba_red10 = retrainKNN(\n",
        "                                        k_range[idx_k_red10],\n",
        "                                        distancias[idx_dist_red10],\n",
        "                                        train_red_10,\n",
        "                                        test_red_10,\n",
        "                                        scaler_red_10)"
      ],
      "metadata": {
        "colab": {
          "base_uri": "https://localhost:8080/"
        },
        "id": "B0sa0eURCk14",
        "outputId": "f9253dfd-dc24-4bba-c9c0-5f3bd6e5fbcf"
      },
      "execution_count": null,
      "outputs": [
        {
          "output_type": "stream",
          "name": "stdout",
          "text": [
            "Summary for the classifier 26-NN with accuracy 0.8444\n",
            "              precision    recall  f1-score   support\n",
            "\n",
            "         0.0       1.00      0.25      0.40        16\n",
            "         1.0       0.72      0.65      0.68        20\n",
            "         2.0       0.89      0.94      0.91        34\n",
            "         3.0       0.78      0.93      0.85        15\n",
            "         4.0       0.80      1.00      0.89        39\n",
            "         5.0       0.98      1.00      0.99        42\n",
            "         6.0       0.67      0.57      0.62        14\n",
            "\n",
            "    accuracy                           0.84       180\n",
            "   macro avg       0.83      0.76      0.76       180\n",
            "weighted avg       0.85      0.84      0.83       180\n",
            "\n"
          ]
        }
      ]
    },
    {
      "cell_type": "markdown",
      "source": [
        "### Matriz de confusão"
      ],
      "metadata": {
        "id": "y9u4rxKZDLbP"
      }
    },
    {
      "cell_type": "code",
      "source": [
        "test_red_10_decoded = []\n",
        "y_pred_ret_red_10_test_decoded = []\n",
        "\n",
        "for i in range(test_red_10.shape[0]):\n",
        "    test_red_10_decoded.append(encoder[int(test_red_10[:,-1][i])])\n",
        "    y_pred_ret_red_10_test_decoded.append(encoder[int(model_pred_red10[:][i])])\n",
        "\n",
        "cm = metrics.confusion_matrix(test_red_10_decoded, y_pred_ret_red_10_test_decoded, \n",
        "                              labels=encoder)\n",
        "\n",
        "disp = metrics.ConfusionMatrixDisplay(confusion_matrix=cm, \n",
        "                                      display_labels=encoder)\n",
        "disp.plot(cmap=plt.cm.Blues, xticks_rotation= \"vertical\", )\n",
        "plt.title(f\"Confusion Matrix.\");"
      ],
      "metadata": {
        "colab": {
          "base_uri": "https://localhost:8080/",
          "height": 326
        },
        "id": "bwxnIsEQC_r1",
        "outputId": "5e84c96f-ad53-421b-ce44-a691c5f54ce1"
      },
      "execution_count": null,
      "outputs": [
        {
          "output_type": "display_data",
          "data": {
            "text/plain": [
              "<Figure size 432x288 with 2 Axes>"
            ],
            "image/png": "[encoded data removed]"
          },
          "metadata": {
            "needs_background": "light"
          }
        }
      ]
    }
  ]
}